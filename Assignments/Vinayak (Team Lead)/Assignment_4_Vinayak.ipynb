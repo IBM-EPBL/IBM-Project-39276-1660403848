{
 "cells": [
  {
   "cell_type": "markdown",
   "metadata": {},
   "source": [
    "## Assignment 4 - Customer Segmentation Analysis"
   ]
  },
  {
   "cell_type": "markdown",
   "metadata": {},
   "source": [
    "### Vinayak (Team Lead) - 2019115121"
   ]
  },
  {
   "cell_type": "markdown",
   "metadata": {},
   "source": [
    "### 1. Download the Dataset"
   ]
  },
  {
   "cell_type": "markdown",
   "metadata": {},
   "source": [
    "### 2. Load the dataset into the tool"
   ]
  },
  {
   "cell_type": "code",
   "execution_count": 1,
   "metadata": {},
   "outputs": [],
   "source": [
    "import pandas as pd\n",
    "df = pd.read_csv(\"./Dataset/Mall_Customers.csv\")"
   ]
  },
  {
   "cell_type": "code",
   "execution_count": 2,
   "metadata": {},
   "outputs": [
    {
     "data": {
      "text/html": [
       "<div>\n",
       "<style scoped>\n",
       "    .dataframe tbody tr th:only-of-type {\n",
       "        vertical-align: middle;\n",
       "    }\n",
       "\n",
       "    .dataframe tbody tr th {\n",
       "        vertical-align: top;\n",
       "    }\n",
       "\n",
       "    .dataframe thead th {\n",
       "        text-align: right;\n",
       "    }\n",
       "</style>\n",
       "<table border=\"1\" class=\"dataframe\">\n",
       "  <thead>\n",
       "    <tr style=\"text-align: right;\">\n",
       "      <th></th>\n",
       "      <th>CustomerID</th>\n",
       "      <th>Gender</th>\n",
       "      <th>Age</th>\n",
       "      <th>Annual Income (k$)</th>\n",
       "      <th>Spending Score (1-100)</th>\n",
       "    </tr>\n",
       "  </thead>\n",
       "  <tbody>\n",
       "    <tr>\n",
       "      <th>0</th>\n",
       "      <td>1</td>\n",
       "      <td>Male</td>\n",
       "      <td>19</td>\n",
       "      <td>15</td>\n",
       "      <td>39</td>\n",
       "    </tr>\n",
       "    <tr>\n",
       "      <th>1</th>\n",
       "      <td>2</td>\n",
       "      <td>Male</td>\n",
       "      <td>21</td>\n",
       "      <td>15</td>\n",
       "      <td>81</td>\n",
       "    </tr>\n",
       "    <tr>\n",
       "      <th>2</th>\n",
       "      <td>3</td>\n",
       "      <td>Female</td>\n",
       "      <td>20</td>\n",
       "      <td>16</td>\n",
       "      <td>6</td>\n",
       "    </tr>\n",
       "    <tr>\n",
       "      <th>3</th>\n",
       "      <td>4</td>\n",
       "      <td>Female</td>\n",
       "      <td>23</td>\n",
       "      <td>16</td>\n",
       "      <td>77</td>\n",
       "    </tr>\n",
       "    <tr>\n",
       "      <th>4</th>\n",
       "      <td>5</td>\n",
       "      <td>Female</td>\n",
       "      <td>31</td>\n",
       "      <td>17</td>\n",
       "      <td>40</td>\n",
       "    </tr>\n",
       "    <tr>\n",
       "      <th>...</th>\n",
       "      <td>...</td>\n",
       "      <td>...</td>\n",
       "      <td>...</td>\n",
       "      <td>...</td>\n",
       "      <td>...</td>\n",
       "    </tr>\n",
       "    <tr>\n",
       "      <th>195</th>\n",
       "      <td>196</td>\n",
       "      <td>Female</td>\n",
       "      <td>35</td>\n",
       "      <td>120</td>\n",
       "      <td>79</td>\n",
       "    </tr>\n",
       "    <tr>\n",
       "      <th>196</th>\n",
       "      <td>197</td>\n",
       "      <td>Female</td>\n",
       "      <td>45</td>\n",
       "      <td>126</td>\n",
       "      <td>28</td>\n",
       "    </tr>\n",
       "    <tr>\n",
       "      <th>197</th>\n",
       "      <td>198</td>\n",
       "      <td>Male</td>\n",
       "      <td>32</td>\n",
       "      <td>126</td>\n",
       "      <td>74</td>\n",
       "    </tr>\n",
       "    <tr>\n",
       "      <th>198</th>\n",
       "      <td>199</td>\n",
       "      <td>Male</td>\n",
       "      <td>32</td>\n",
       "      <td>137</td>\n",
       "      <td>18</td>\n",
       "    </tr>\n",
       "    <tr>\n",
       "      <th>199</th>\n",
       "      <td>200</td>\n",
       "      <td>Male</td>\n",
       "      <td>30</td>\n",
       "      <td>137</td>\n",
       "      <td>83</td>\n",
       "    </tr>\n",
       "  </tbody>\n",
       "</table>\n",
       "<p>200 rows × 5 columns</p>\n",
       "</div>"
      ],
      "text/plain": [
       "     CustomerID  Gender  Age  Annual Income (k$)  Spending Score (1-100)\n",
       "0             1    Male   19                  15                      39\n",
       "1             2    Male   21                  15                      81\n",
       "2             3  Female   20                  16                       6\n",
       "3             4  Female   23                  16                      77\n",
       "4             5  Female   31                  17                      40\n",
       "..          ...     ...  ...                 ...                     ...\n",
       "195         196  Female   35                 120                      79\n",
       "196         197  Female   45                 126                      28\n",
       "197         198    Male   32                 126                      74\n",
       "198         199    Male   32                 137                      18\n",
       "199         200    Male   30                 137                      83\n",
       "\n",
       "[200 rows x 5 columns]"
      ]
     },
     "execution_count": 2,
     "metadata": {},
     "output_type": "execute_result"
    }
   ],
   "source": [
    "df"
   ]
  },
  {
   "cell_type": "code",
   "execution_count": 3,
   "metadata": {},
   "outputs": [
    {
     "data": {
      "text/html": [
       "<div>\n",
       "<style scoped>\n",
       "    .dataframe tbody tr th:only-of-type {\n",
       "        vertical-align: middle;\n",
       "    }\n",
       "\n",
       "    .dataframe tbody tr th {\n",
       "        vertical-align: top;\n",
       "    }\n",
       "\n",
       "    .dataframe thead th {\n",
       "        text-align: right;\n",
       "    }\n",
       "</style>\n",
       "<table border=\"1\" class=\"dataframe\">\n",
       "  <thead>\n",
       "    <tr style=\"text-align: right;\">\n",
       "      <th></th>\n",
       "      <th>CustomerID</th>\n",
       "      <th>Age</th>\n",
       "      <th>Annual Income (k$)</th>\n",
       "      <th>Spending Score (1-100)</th>\n",
       "    </tr>\n",
       "  </thead>\n",
       "  <tbody>\n",
       "    <tr>\n",
       "      <th>CustomerID</th>\n",
       "      <td>1.000000</td>\n",
       "      <td>-0.026763</td>\n",
       "      <td>0.977548</td>\n",
       "      <td>0.013835</td>\n",
       "    </tr>\n",
       "    <tr>\n",
       "      <th>Age</th>\n",
       "      <td>-0.026763</td>\n",
       "      <td>1.000000</td>\n",
       "      <td>-0.012398</td>\n",
       "      <td>-0.327227</td>\n",
       "    </tr>\n",
       "    <tr>\n",
       "      <th>Annual Income (k$)</th>\n",
       "      <td>0.977548</td>\n",
       "      <td>-0.012398</td>\n",
       "      <td>1.000000</td>\n",
       "      <td>0.009903</td>\n",
       "    </tr>\n",
       "    <tr>\n",
       "      <th>Spending Score (1-100)</th>\n",
       "      <td>0.013835</td>\n",
       "      <td>-0.327227</td>\n",
       "      <td>0.009903</td>\n",
       "      <td>1.000000</td>\n",
       "    </tr>\n",
       "  </tbody>\n",
       "</table>\n",
       "</div>"
      ],
      "text/plain": [
       "                        CustomerID       Age  Annual Income (k$)  \\\n",
       "CustomerID                1.000000 -0.026763            0.977548   \n",
       "Age                      -0.026763  1.000000           -0.012398   \n",
       "Annual Income (k$)        0.977548 -0.012398            1.000000   \n",
       "Spending Score (1-100)    0.013835 -0.327227            0.009903   \n",
       "\n",
       "                        Spending Score (1-100)  \n",
       "CustomerID                            0.013835  \n",
       "Age                                  -0.327227  \n",
       "Annual Income (k$)                    0.009903  \n",
       "Spending Score (1-100)                1.000000  "
      ]
     },
     "execution_count": 3,
     "metadata": {},
     "output_type": "execute_result"
    }
   ],
   "source": [
    "df.corr()"
   ]
  },
  {
   "cell_type": "markdown",
   "metadata": {},
   "source": [
    "### 3. Perform Visualizations"
   ]
  },
  {
   "cell_type": "markdown",
   "metadata": {},
   "source": [
    "### Univariate Analysis"
   ]
  },
  {
   "cell_type": "code",
   "execution_count": 4,
   "metadata": {},
   "outputs": [],
   "source": [
    "import matplotlib.pyplot as plt\n",
    "import seaborn as sns"
   ]
  },
  {
   "cell_type": "code",
   "execution_count": 5,
   "metadata": {},
   "outputs": [
    {
     "data": {
      "text/plain": [
       "<AxesSubplot: xlabel='Gender', ylabel='count'>"
      ]
     },
     "execution_count": 5,
     "metadata": {},
     "output_type": "execute_result"
    },
    {
     "data": {
      "image/png": "[encoded data removed]",
      "text/plain": [
       "<Figure size 432x288 with 1 Axes>"
      ]
     },
     "metadata": {
      "needs_background": "light"
     },
     "output_type": "display_data"
    }
   ],
   "source": [
    "sns.countplot(df['Gender'])"
   ]
  },
  {
   "cell_type": "code",
   "execution_count": 6,
   "metadata": {},
   "outputs": [
    {
     "data": {
      "image/png": "[encoded data removed]",
      "text/plain": [
       "<Figure size 432x288 with 1 Axes>"
      ]
     },
     "metadata": {
      "needs_background": "light"
     },
     "output_type": "display_data"
    }
   ],
   "source": [
    "plt.hist(df['Annual Income (k$)'])\n",
    "plt.show()"
   ]
  },
  {
   "cell_type": "markdown",
   "metadata": {},
   "source": [
    "### Bi-Variate Analysis"
   ]
  },
  {
   "cell_type": "code",
   "execution_count": 7,
   "metadata": {},
   "outputs": [
    {
     "data": {
      "image/png": "[encoded data removed]",
      "text/plain": [
       "<Figure size 432x288 with 1 Axes>"
      ]
     },
     "metadata": {
      "needs_background": "light"
     },
     "output_type": "display_data"
    }
   ],
   "source": [
    "plt.scatter(df['Age'], df['Annual Income (k$)'])\n",
    "plt.show()"
   ]
  },
  {
   "cell_type": "code",
   "execution_count": 8,
   "metadata": {},
   "outputs": [
    {
     "data": {
      "text/plain": [
       "<AxesSubplot: xlabel='Gender', ylabel='Spending Score (1-100)'>"
      ]
     },
     "execution_count": 8,
     "metadata": {},
     "output_type": "execute_result"
    },
    {
     "data": {
      "image/png": "[encoded data removed]",
      "text/plain": [
       "<Figure size 432x288 with 1 Axes>"
      ]
     },
     "metadata": {
      "needs_background": "light"
     },
     "output_type": "display_data"
    }
   ],
   "source": [
    "sns.boxplot(x = df['Gender'], y = df['Spending Score (1-100)'])"
   ]
  },
  {
   "cell_type": "markdown",
   "metadata": {},
   "source": [
    "### Multi-Variate Analysis"
   ]
  },
  {
   "cell_type": "code",
   "execution_count": 9,
   "metadata": {},
   "outputs": [
    {
     "data": {
      "text/plain": [
       "<seaborn.axisgrid.PairGrid at 0x183edc41370>"
      ]
     },
     "execution_count": 9,
     "metadata": {},
     "output_type": "execute_result"
    },
    {
     "data": {
      "image/png": "[encoded data removed]",
      "text/plain": [
       "<Figure size 720x720 with 20 Axes>"
      ]
     },
     "metadata": {
      "needs_background": "light"
     },
     "output_type": "display_data"
    }
   ],
   "source": [
    "sns.pairplot(df, kind = \"scatter\")"
   ]
  },
  {
   "cell_type": "code",
   "execution_count": 10,
   "metadata": {},
   "outputs": [
    {
     "data": {
      "text/plain": [
       "<AxesSubplot: >"
      ]
     },
     "execution_count": 10,
     "metadata": {},
     "output_type": "execute_result"
    },
    {
     "data": {
      "image/png": "[encoded data removed]",
      "text/plain": [
       "<Figure size 432x288 with 2 Axes>"
      ]
     },
     "metadata": {
      "needs_background": "light"
     },
     "output_type": "display_data"
    }
   ],
   "source": [
    "sns.heatmap(df.corr(), vmin = -1, center = 0, annot = True, cmap = 'Blues')"
   ]
  },
  {
   "cell_type": "markdown",
   "metadata": {},
   "source": [
    "### 4. Perform descriptive statistics on the dataset"
   ]
  },
  {
   "cell_type": "code",
   "execution_count": 11,
   "metadata": {},
   "outputs": [
    {
     "data": {
      "text/html": [
       "<div>\n",
       "<style scoped>\n",
       "    .dataframe tbody tr th:only-of-type {\n",
       "        vertical-align: middle;\n",
       "    }\n",
       "\n",
       "    .dataframe tbody tr th {\n",
       "        vertical-align: top;\n",
       "    }\n",
       "\n",
       "    .dataframe thead th {\n",
       "        text-align: right;\n",
       "    }\n",
       "</style>\n",
       "<table border=\"1\" class=\"dataframe\">\n",
       "  <thead>\n",
       "    <tr style=\"text-align: right;\">\n",
       "      <th></th>\n",
       "      <th>CustomerID</th>\n",
       "      <th>Age</th>\n",
       "      <th>Annual Income (k$)</th>\n",
       "      <th>Spending Score (1-100)</th>\n",
       "    </tr>\n",
       "  </thead>\n",
       "  <tbody>\n",
       "    <tr>\n",
       "      <th>count</th>\n",
       "      <td>200.000000</td>\n",
       "      <td>200.000000</td>\n",
       "      <td>200.000000</td>\n",
       "      <td>200.000000</td>\n",
       "    </tr>\n",
       "    <tr>\n",
       "      <th>mean</th>\n",
       "      <td>100.500000</td>\n",
       "      <td>38.850000</td>\n",
       "      <td>60.560000</td>\n",
       "      <td>50.200000</td>\n",
       "    </tr>\n",
       "    <tr>\n",
       "      <th>std</th>\n",
       "      <td>57.879185</td>\n",
       "      <td>13.969007</td>\n",
       "      <td>26.264721</td>\n",
       "      <td>25.823522</td>\n",
       "    </tr>\n",
       "    <tr>\n",
       "      <th>min</th>\n",
       "      <td>1.000000</td>\n",
       "      <td>18.000000</td>\n",
       "      <td>15.000000</td>\n",
       "      <td>1.000000</td>\n",
       "    </tr>\n",
       "    <tr>\n",
       "      <th>25%</th>\n",
       "      <td>50.750000</td>\n",
       "      <td>28.750000</td>\n",
       "      <td>41.500000</td>\n",
       "      <td>34.750000</td>\n",
       "    </tr>\n",
       "    <tr>\n",
       "      <th>50%</th>\n",
       "      <td>100.500000</td>\n",
       "      <td>36.000000</td>\n",
       "      <td>61.500000</td>\n",
       "      <td>50.000000</td>\n",
       "    </tr>\n",
       "    <tr>\n",
       "      <th>75%</th>\n",
       "      <td>150.250000</td>\n",
       "      <td>49.000000</td>\n",
       "      <td>78.000000</td>\n",
       "      <td>73.000000</td>\n",
       "    </tr>\n",
       "    <tr>\n",
       "      <th>max</th>\n",
       "      <td>200.000000</td>\n",
       "      <td>70.000000</td>\n",
       "      <td>137.000000</td>\n",
       "      <td>99.000000</td>\n",
       "    </tr>\n",
       "  </tbody>\n",
       "</table>\n",
       "</div>"
      ],
      "text/plain": [
       "       CustomerID         Age  Annual Income (k$)  Spending Score (1-100)\n",
       "count  200.000000  200.000000          200.000000              200.000000\n",
       "mean   100.500000   38.850000           60.560000               50.200000\n",
       "std     57.879185   13.969007           26.264721               25.823522\n",
       "min      1.000000   18.000000           15.000000                1.000000\n",
       "25%     50.750000   28.750000           41.500000               34.750000\n",
       "50%    100.500000   36.000000           61.500000               50.000000\n",
       "75%    150.250000   49.000000           78.000000               73.000000\n",
       "max    200.000000   70.000000          137.000000               99.000000"
      ]
     },
     "execution_count": 11,
     "metadata": {},
     "output_type": "execute_result"
    }
   ],
   "source": [
    "df.describe()"
   ]
  },
  {
   "cell_type": "code",
   "execution_count": 12,
   "metadata": {},
   "outputs": [
    {
     "name": "stdout",
     "output_type": "stream",
     "text": [
      "<class 'pandas.core.frame.DataFrame'>\n",
      "RangeIndex: 200 entries, 0 to 199\n",
      "Data columns (total 5 columns):\n",
      " #   Column                  Non-Null Count  Dtype \n",
      "---  ------                  --------------  ----- \n",
      " 0   CustomerID              200 non-null    int64 \n",
      " 1   Gender                  200 non-null    object\n",
      " 2   Age                     200 non-null    int64 \n",
      " 3   Annual Income (k$)      200 non-null    int64 \n",
      " 4   Spending Score (1-100)  200 non-null    int64 \n",
      "dtypes: int64(4), object(1)\n",
      "memory usage: 7.9+ KB\n"
     ]
    }
   ],
   "source": [
    "df.info()"
   ]
  },
  {
   "cell_type": "markdown",
   "metadata": {},
   "source": [
    "### 5. Check for Missing Values and deal with them"
   ]
  },
  {
   "cell_type": "code",
   "execution_count": 13,
   "metadata": {},
   "outputs": [
    {
     "data": {
      "text/plain": [
       "<AxesSubplot: >"
      ]
     },
     "execution_count": 13,
     "metadata": {},
     "output_type": "execute_result"
    },
    {
     "data": {
      "image/png": "[encoded data removed]",
      "text/plain": [
       "<Figure size 432x288 with 2 Axes>"
      ]
     },
     "metadata": {
      "needs_background": "light"
     },
     "output_type": "display_data"
    }
   ],
   "source": [
    "sns.heatmap(df.isnull())"
   ]
  },
  {
   "cell_type": "code",
   "execution_count": 14,
   "metadata": {},
   "outputs": [
    {
     "data": {
      "text/plain": [
       "CustomerID                0\n",
       "Gender                    0\n",
       "Age                       0\n",
       "Annual Income (k$)        0\n",
       "Spending Score (1-100)    0\n",
       "dtype: int64"
      ]
     },
     "execution_count": 14,
     "metadata": {},
     "output_type": "execute_result"
    }
   ],
   "source": [
    "df.isnull().sum()"
   ]
  },
  {
   "cell_type": "markdown",
   "metadata": {},
   "source": [
    "### 6. Find the outliers and replace the outliers"
   ]
  },
  {
   "cell_type": "code",
   "execution_count": 15,
   "metadata": {},
   "outputs": [],
   "source": [
    "lst = ['Age', 'Annual Income (k$)', 'Spending Score (1-100)']"
   ]
  },
  {
   "cell_type": "code",
   "execution_count": 16,
   "metadata": {},
   "outputs": [
    {
     "data": {
      "text/html": [
       "<div>\n",
       "<style scoped>\n",
       "    .dataframe tbody tr th:only-of-type {\n",
       "        vertical-align: middle;\n",
       "    }\n",
       "\n",
       "    .dataframe tbody tr th {\n",
       "        vertical-align: top;\n",
       "    }\n",
       "\n",
       "    .dataframe thead th {\n",
       "        text-align: right;\n",
       "    }\n",
       "</style>\n",
       "<table border=\"1\" class=\"dataframe\">\n",
       "  <thead>\n",
       "    <tr style=\"text-align: right;\">\n",
       "      <th></th>\n",
       "      <th>Age</th>\n",
       "      <th>Annual Income (k$)</th>\n",
       "      <th>Spending Score (1-100)</th>\n",
       "    </tr>\n",
       "  </thead>\n",
       "  <tbody>\n",
       "    <tr>\n",
       "      <th>0.25</th>\n",
       "      <td>28.75</td>\n",
       "      <td>41.5</td>\n",
       "      <td>34.75</td>\n",
       "    </tr>\n",
       "    <tr>\n",
       "      <th>0.75</th>\n",
       "      <td>49.00</td>\n",
       "      <td>78.0</td>\n",
       "      <td>73.00</td>\n",
       "    </tr>\n",
       "  </tbody>\n",
       "</table>\n",
       "</div>"
      ],
      "text/plain": [
       "        Age  Annual Income (k$)  Spending Score (1-100)\n",
       "0.25  28.75                41.5                   34.75\n",
       "0.75  49.00                78.0                   73.00"
      ]
     },
     "execution_count": 16,
     "metadata": {},
     "output_type": "execute_result"
    }
   ],
   "source": [
    "df[lst].quantile(q = (0.25,0.75))"
   ]
  },
  {
   "cell_type": "code",
   "execution_count": 17,
   "metadata": {},
   "outputs": [
    {
     "data": {
      "text/plain": [
       "<AxesSubplot: >"
      ]
     },
     "execution_count": 17,
     "metadata": {},
     "output_type": "execute_result"
    },
    {
     "data": {
      "image/png": "[encoded data removed]",
      "text/plain": [
       "<Figure size 432x288 with 1 Axes>"
      ]
     },
     "metadata": {
      "needs_background": "light"
     },
     "output_type": "display_data"
    }
   ],
   "source": [
    "df[lst].plot(kind=\"box\")"
   ]
  },
  {
   "cell_type": "code",
   "execution_count": 18,
   "metadata": {},
   "outputs": [
    {
     "name": "stdout",
     "output_type": "stream",
     "text": [
      "MEAN:\n",
      "Age : 38.85\n",
      "Annual Income (k$) : 60.56\n",
      "Spending Score (1-100) : 50.2\n"
     ]
    }
   ],
   "source": [
    "import numpy as np\n",
    "print('MEAN:')\n",
    "for x in lst:\n",
    "    print(x, ':', np.mean(df[x]))"
   ]
  },
  {
   "cell_type": "code",
   "execution_count": 19,
   "metadata": {},
   "outputs": [],
   "source": [
    "for x in lst:\n",
    "    q1 = df[x].quantile(0.25)\n",
    "    q3 = df[x].quantile(0.75)\n",
    "    iqr = q3 - q1\n",
    "    upper = q3 + 1.5 * iqr\n",
    "    lower = q1 - 1.5 * iqr\n",
    "    df[x] = np.where(df[x] > upper, upper, df[x])\n",
    "    df[x] = np.where(df[x] < lower, lower, df[x])"
   ]
  },
  {
   "cell_type": "code",
   "execution_count": 20,
   "metadata": {},
   "outputs": [
    {
     "data": {
      "text/plain": [
       "<AxesSubplot: >"
      ]
     },
     "execution_count": 20,
     "metadata": {},
     "output_type": "execute_result"
    },
    {
     "data": {
      "image/png": "[encoded data removed]",
      "text/plain": [
       "<Figure size 432x288 with 1 Axes>"
      ]
     },
     "metadata": {
      "needs_background": "light"
     },
     "output_type": "display_data"
    }
   ],
   "source": [
    "df[lst].plot(kind = \"box\")"
   ]
  },
  {
   "cell_type": "markdown",
   "metadata": {},
   "source": [
    "### 7. Check for Categorical columns and perform encoding\n"
   ]
  },
  {
   "cell_type": "code",
   "execution_count": 21,
   "metadata": {},
   "outputs": [],
   "source": [
    "from sklearn.preprocessing import LabelEncoder"
   ]
  },
  {
   "cell_type": "code",
   "execution_count": 22,
   "metadata": {},
   "outputs": [],
   "source": [
    "le = LabelEncoder()\n",
    "df[\"Gender\"] = le.fit_transform(df[\"Gender\"])"
   ]
  },
  {
   "cell_type": "code",
   "execution_count": 23,
   "metadata": {},
   "outputs": [
    {
     "data": {
      "text/html": [
       "<div>\n",
       "<style scoped>\n",
       "    .dataframe tbody tr th:only-of-type {\n",
       "        vertical-align: middle;\n",
       "    }\n",
       "\n",
       "    .dataframe tbody tr th {\n",
       "        vertical-align: top;\n",
       "    }\n",
       "\n",
       "    .dataframe thead th {\n",
       "        text-align: right;\n",
       "    }\n",
       "</style>\n",
       "<table border=\"1\" class=\"dataframe\">\n",
       "  <thead>\n",
       "    <tr style=\"text-align: right;\">\n",
       "      <th></th>\n",
       "      <th>CustomerID</th>\n",
       "      <th>Gender</th>\n",
       "      <th>Age</th>\n",
       "      <th>Annual Income (k$)</th>\n",
       "      <th>Spending Score (1-100)</th>\n",
       "    </tr>\n",
       "  </thead>\n",
       "  <tbody>\n",
       "    <tr>\n",
       "      <th>0</th>\n",
       "      <td>1</td>\n",
       "      <td>1</td>\n",
       "      <td>19.0</td>\n",
       "      <td>15.00</td>\n",
       "      <td>39.0</td>\n",
       "    </tr>\n",
       "    <tr>\n",
       "      <th>1</th>\n",
       "      <td>2</td>\n",
       "      <td>1</td>\n",
       "      <td>21.0</td>\n",
       "      <td>15.00</td>\n",
       "      <td>81.0</td>\n",
       "    </tr>\n",
       "    <tr>\n",
       "      <th>2</th>\n",
       "      <td>3</td>\n",
       "      <td>0</td>\n",
       "      <td>20.0</td>\n",
       "      <td>16.00</td>\n",
       "      <td>6.0</td>\n",
       "    </tr>\n",
       "    <tr>\n",
       "      <th>3</th>\n",
       "      <td>4</td>\n",
       "      <td>0</td>\n",
       "      <td>23.0</td>\n",
       "      <td>16.00</td>\n",
       "      <td>77.0</td>\n",
       "    </tr>\n",
       "    <tr>\n",
       "      <th>4</th>\n",
       "      <td>5</td>\n",
       "      <td>0</td>\n",
       "      <td>31.0</td>\n",
       "      <td>17.00</td>\n",
       "      <td>40.0</td>\n",
       "    </tr>\n",
       "    <tr>\n",
       "      <th>...</th>\n",
       "      <td>...</td>\n",
       "      <td>...</td>\n",
       "      <td>...</td>\n",
       "      <td>...</td>\n",
       "      <td>...</td>\n",
       "    </tr>\n",
       "    <tr>\n",
       "      <th>195</th>\n",
       "      <td>196</td>\n",
       "      <td>0</td>\n",
       "      <td>35.0</td>\n",
       "      <td>120.00</td>\n",
       "      <td>79.0</td>\n",
       "    </tr>\n",
       "    <tr>\n",
       "      <th>196</th>\n",
       "      <td>197</td>\n",
       "      <td>0</td>\n",
       "      <td>45.0</td>\n",
       "      <td>126.00</td>\n",
       "      <td>28.0</td>\n",
       "    </tr>\n",
       "    <tr>\n",
       "      <th>197</th>\n",
       "      <td>198</td>\n",
       "      <td>1</td>\n",
       "      <td>32.0</td>\n",
       "      <td>126.00</td>\n",
       "      <td>74.0</td>\n",
       "    </tr>\n",
       "    <tr>\n",
       "      <th>198</th>\n",
       "      <td>199</td>\n",
       "      <td>1</td>\n",
       "      <td>32.0</td>\n",
       "      <td>132.75</td>\n",
       "      <td>18.0</td>\n",
       "    </tr>\n",
       "    <tr>\n",
       "      <th>199</th>\n",
       "      <td>200</td>\n",
       "      <td>1</td>\n",
       "      <td>30.0</td>\n",
       "      <td>132.75</td>\n",
       "      <td>83.0</td>\n",
       "    </tr>\n",
       "  </tbody>\n",
       "</table>\n",
       "<p>200 rows × 5 columns</p>\n",
       "</div>"
      ],
      "text/plain": [
       "     CustomerID  Gender   Age  Annual Income (k$)  Spending Score (1-100)\n",
       "0             1       1  19.0               15.00                    39.0\n",
       "1             2       1  21.0               15.00                    81.0\n",
       "2             3       0  20.0               16.00                     6.0\n",
       "3             4       0  23.0               16.00                    77.0\n",
       "4             5       0  31.0               17.00                    40.0\n",
       "..          ...     ...   ...                 ...                     ...\n",
       "195         196       0  35.0              120.00                    79.0\n",
       "196         197       0  45.0              126.00                    28.0\n",
       "197         198       1  32.0              126.00                    74.0\n",
       "198         199       1  32.0              132.75                    18.0\n",
       "199         200       1  30.0              132.75                    83.0\n",
       "\n",
       "[200 rows x 5 columns]"
      ]
     },
     "execution_count": 23,
     "metadata": {},
     "output_type": "execute_result"
    }
   ],
   "source": [
    "df"
   ]
  },
  {
   "cell_type": "markdown",
   "metadata": {},
   "source": [
    "### 8. Scaling the data"
   ]
  },
  {
   "cell_type": "code",
   "execution_count": 24,
   "metadata": {},
   "outputs": [],
   "source": [
    "from sklearn.preprocessing import StandardScaler\n",
    "sc = StandardScaler()\n",
    "df1 = sc.fit_transform(df)"
   ]
  },
  {
   "cell_type": "code",
   "execution_count": 25,
   "metadata": {},
   "outputs": [
    {
     "data": {
      "text/plain": [
       "array([[-1.7234121 ,  1.12815215, -1.42456879, -1.74542941, -0.43480148],\n",
       "       [-1.70609137,  1.12815215, -1.28103541, -1.74542941,  1.19570407],\n",
       "       [-1.68877065, -0.88640526, -1.3528021 , -1.70708307, -1.71591298],\n",
       "       [-1.67144992, -0.88640526, -1.13750203, -1.70708307,  1.04041783],\n",
       "       [-1.6541292 , -0.88640526, -0.56336851, -1.66873673, -0.39597992],\n",
       "       [-1.63680847, -0.88640526, -1.20926872, -1.66873673,  1.00159627],\n",
       "       [-1.61948775, -0.88640526, -0.27630176, -1.6303904 , -1.71591298],\n",
       "       [-1.60216702, -0.88640526, -1.13750203, -1.6303904 ,  1.70038436],\n",
       "       [-1.5848463 ,  1.12815215,  1.80493225, -1.59204406, -1.83237767],\n",
       "       [-1.56752558, -0.88640526, -0.6351352 , -1.59204406,  0.84631002],\n",
       "       [-1.55020485,  1.12815215,  2.02023231, -1.59204406, -1.4053405 ],\n",
       "       [-1.53288413, -0.88640526, -0.27630176, -1.59204406,  1.89449216],\n",
       "       [-1.5155634 , -0.88640526,  1.37433211, -1.55369772, -1.36651894],\n",
       "       [-1.49824268, -0.88640526, -1.06573534, -1.55369772,  1.04041783],\n",
       "       [-1.48092195,  1.12815215, -0.13276838, -1.55369772, -1.44416206],\n",
       "       [-1.46360123,  1.12815215, -1.20926872, -1.55369772,  1.11806095],\n",
       "       [-1.4462805 , -0.88640526, -0.27630176, -1.51535138, -0.59008772],\n",
       "       [-1.42895978,  1.12815215, -1.3528021 , -1.51535138,  0.61338066],\n",
       "       [-1.41163905,  1.12815215,  0.94373197, -1.43865871, -0.82301709],\n",
       "       [-1.39431833, -0.88640526, -0.27630176, -1.43865871,  1.8556706 ],\n",
       "       [-1.3769976 ,  1.12815215, -0.27630176, -1.40031237, -0.59008772],\n",
       "       [-1.35967688,  1.12815215, -0.99396865, -1.40031237,  0.88513158],\n",
       "       [-1.34235616, -0.88640526,  0.51313183, -1.36196603, -1.75473454],\n",
       "       [-1.32503543,  1.12815215, -0.56336851, -1.36196603,  0.88513158],\n",
       "       [-1.30771471, -0.88640526,  1.08726535, -1.24692702, -1.4053405 ],\n",
       "       [-1.29039398,  1.12815215, -0.70690189, -1.24692702,  1.23452563],\n",
       "       [-1.27307326, -0.88640526,  0.44136514, -1.24692702, -0.7065524 ],\n",
       "       [-1.25575253,  1.12815215, -0.27630176, -1.24692702,  0.41927286],\n",
       "       [-1.23843181, -0.88640526,  0.08253169, -1.20858069, -0.74537397],\n",
       "       [-1.22111108, -0.88640526, -1.13750203, -1.20858069,  1.42863343],\n",
       "       [-1.20379036,  1.12815215,  1.51786549, -1.17023435, -1.7935561 ],\n",
       "       [-1.18646963, -0.88640526, -1.28103541, -1.17023435,  0.88513158],\n",
       "       [-1.16914891,  1.12815215,  1.01549866, -1.05519534, -1.7935561 ],\n",
       "       [-1.15182818,  1.12815215, -1.49633548, -1.05519534,  1.62274124],\n",
       "       [-1.13450746, -0.88640526,  0.7284319 , -1.05519534, -1.4053405 ],\n",
       "       [-1.11718674, -0.88640526, -1.28103541, -1.05519534,  1.19570407],\n",
       "       [-1.09986601, -0.88640526,  0.22606507, -1.016849  , -1.28887582],\n",
       "       [-1.08254529, -0.88640526, -0.6351352 , -1.016849  ,  0.88513158],\n",
       "       [-1.06522456, -0.88640526, -0.20453507, -0.90180999, -0.93948177],\n",
       "       [-1.04790384, -0.88640526, -1.3528021 , -0.90180999,  0.96277471],\n",
       "       [-1.03058311, -0.88640526,  1.87669894, -0.86346365, -0.59008772],\n",
       "       [-1.01326239,  1.12815215, -1.06573534, -0.86346365,  1.62274124],\n",
       "       [-0.99594166,  1.12815215,  0.65666521, -0.82511731, -0.55126616],\n",
       "       [-0.97862094, -0.88640526, -0.56336851, -0.82511731,  0.41927286],\n",
       "       [-0.96130021, -0.88640526,  0.7284319 , -0.82511731, -0.86183865],\n",
       "       [-0.94397949, -0.88640526, -1.06573534, -0.82511731,  0.5745591 ],\n",
       "       [-0.92665877, -0.88640526,  0.80019859, -0.78677098,  0.18634349],\n",
       "       [-0.90933804, -0.88640526, -0.85043527, -0.78677098, -0.12422899],\n",
       "       [-0.89201732, -0.88640526, -0.70690189, -0.78677098, -0.3183368 ],\n",
       "       [-0.87469659, -0.88640526, -0.56336851, -0.78677098, -0.3183368 ],\n",
       "       [-0.85737587, -0.88640526,  0.7284319 , -0.7100783 ,  0.06987881],\n",
       "       [-0.84005514,  1.12815215, -0.41983513, -0.7100783 ,  0.38045129],\n",
       "       [-0.82273442, -0.88640526, -0.56336851, -0.67173196,  0.14752193],\n",
       "       [-0.80541369,  1.12815215,  1.4460988 , -0.67173196,  0.38045129],\n",
       "       [-0.78809297, -0.88640526,  0.80019859, -0.67173196, -0.20187212],\n",
       "       [-0.77077224,  1.12815215,  0.58489852, -0.67173196, -0.35715836],\n",
       "       [-0.75345152, -0.88640526,  0.87196528, -0.63338563, -0.00776431],\n",
       "       [-0.73613079,  1.12815215,  2.16376569, -0.63338563, -0.16305055],\n",
       "       [-0.71881007, -0.88640526, -0.85043527, -0.55669295,  0.03105725],\n",
       "       [-0.70148935,  1.12815215,  1.01549866, -0.55669295, -0.16305055],\n",
       "       [-0.68416862,  1.12815215,  2.23553238, -0.55669295,  0.22516505],\n",
       "       [-0.6668479 ,  1.12815215, -1.42456879, -0.55669295,  0.18634349],\n",
       "       [-0.64952717, -0.88640526,  2.02023231, -0.51834661,  0.06987881],\n",
       "       [-0.63220645, -0.88640526,  1.08726535, -0.51834661,  0.34162973],\n",
       "       [-0.61488572,  1.12815215,  1.73316556, -0.48000028,  0.03105725],\n",
       "       [-0.597565  ,  1.12815215, -1.49633548, -0.48000028,  0.34162973],\n",
       "       [-0.58024427, -0.88640526,  0.29783176, -0.48000028, -0.00776431],\n",
       "       [-0.56292355, -0.88640526,  2.091999  , -0.48000028, -0.08540743],\n",
       "       [-0.54560282,  1.12815215, -1.42456879, -0.48000028,  0.34162973],\n",
       "       [-0.5282821 , -0.88640526, -0.49160182, -0.48000028, -0.12422899],\n",
       "       [-0.51096138,  1.12815215,  2.23553238, -0.44165394,  0.18634349],\n",
       "       [-0.49364065, -0.88640526,  0.58489852, -0.44165394, -0.3183368 ],\n",
       "       [-0.47631993, -0.88640526,  1.51786549, -0.4033076 , -0.04658587],\n",
       "       [-0.4589992 , -0.88640526,  1.51786549, -0.4033076 ,  0.22516505],\n",
       "       [-0.44167848,  1.12815215,  1.4460988 , -0.24992225, -0.12422899],\n",
       "       [-0.42435775,  1.12815215, -0.92220196, -0.24992225,  0.14752193],\n",
       "       [-0.40703703, -0.88640526,  0.44136514, -0.24992225,  0.10870037],\n",
       "       [-0.3897163 ,  1.12815215,  0.08253169, -0.24992225, -0.08540743],\n",
       "       [-0.37239558, -0.88640526, -1.13750203, -0.24992225,  0.06987881],\n",
       "       [-0.35507485, -0.88640526,  0.7284319 , -0.24992225, -0.3183368 ],\n",
       "       [-0.33775413,  1.12815215,  1.30256542, -0.24992225,  0.03105725],\n",
       "       [-0.3204334 ,  1.12815215, -0.06100169, -0.24992225,  0.18634349],\n",
       "       [-0.30311268,  1.12815215,  2.02023231, -0.24992225, -0.35715836],\n",
       "       [-0.28579196, -0.88640526,  0.51313183, -0.24992225, -0.24069368],\n",
       "       [-0.26847123, -0.88640526, -1.28103541, -0.24992225,  0.26398661],\n",
       "       [-0.25115051,  1.12815215,  0.65666521, -0.24992225, -0.16305055],\n",
       "       [-0.23382978, -0.88640526,  1.15903204, -0.13488324,  0.30280817],\n",
       "       [-0.21650906, -0.88640526, -1.20926872, -0.13488324,  0.18634349],\n",
       "       [-0.19918833, -0.88640526, -0.34806844, -0.0965369 ,  0.38045129],\n",
       "       [-0.18186761, -0.88640526,  0.80019859, -0.0965369 , -0.16305055],\n",
       "       [-0.16454688, -0.88640526,  2.091999  , -0.05819057,  0.18634349],\n",
       "       [-0.14722616,  1.12815215, -1.49633548, -0.05819057, -0.35715836],\n",
       "       [-0.12990543,  1.12815215,  0.65666521, -0.01984423, -0.04658587],\n",
       "       [-0.11258471, -0.88640526,  0.08253169, -0.01984423, -0.39597992],\n",
       "       [-0.09526399, -0.88640526, -0.49160182, -0.01984423, -0.3183368 ],\n",
       "       [-0.07794326,  1.12815215, -1.06573534, -0.01984423,  0.06987881],\n",
       "       [-0.06062254, -0.88640526,  0.58489852, -0.01984423, -0.12422899],\n",
       "       [-0.04330181, -0.88640526, -0.85043527, -0.01984423, -0.00776431],\n",
       "       [-0.02598109,  1.12815215,  0.65666521,  0.01850211, -0.3183368 ],\n",
       "       [-0.00866036,  1.12815215, -1.3528021 ,  0.01850211, -0.04658587],\n",
       "       [ 0.00866036, -0.88640526, -1.13750203,  0.05684845, -0.35715836],\n",
       "       [ 0.02598109, -0.88640526,  0.7284319 ,  0.05684845, -0.08540743],\n",
       "       [ 0.04330181,  1.12815215,  2.02023231,  0.05684845,  0.34162973],\n",
       "       [ 0.06062254,  1.12815215, -0.92220196,  0.05684845,  0.18634349],\n",
       "       [ 0.07794326,  1.12815215,  0.7284319 ,  0.05684845,  0.22516505],\n",
       "       [ 0.09526399, -0.88640526, -1.28103541,  0.05684845, -0.3183368 ],\n",
       "       [ 0.11258471, -0.88640526,  1.94846562,  0.09519478, -0.00776431],\n",
       "       [ 0.12990543,  1.12815215,  1.08726535,  0.09519478, -0.16305055],\n",
       "       [ 0.14722616,  1.12815215,  2.091999  ,  0.09519478, -0.27951524],\n",
       "       [ 0.16454688,  1.12815215,  1.94846562,  0.09519478, -0.08540743],\n",
       "       [ 0.18186761,  1.12815215,  1.87669894,  0.09519478,  0.06987881],\n",
       "       [ 0.19918833, -0.88640526, -1.42456879,  0.09519478,  0.14752193],\n",
       "       [ 0.21650906, -0.88640526, -0.06100169,  0.13354112, -0.3183368 ],\n",
       "       [ 0.23382978,  1.12815215, -1.42456879,  0.13354112, -0.16305055],\n",
       "       [ 0.25115051, -0.88640526, -1.49633548,  0.17188746, -0.08540743],\n",
       "       [ 0.26847123, -0.88640526, -1.42456879,  0.17188746, -0.00776431],\n",
       "       [ 0.28579196, -0.88640526,  1.73316556,  0.17188746, -0.27951524],\n",
       "       [ 0.30311268, -0.88640526,  0.7284319 ,  0.17188746,  0.34162973],\n",
       "       [ 0.3204334 , -0.88640526,  0.87196528,  0.24858013, -0.27951524],\n",
       "       [ 0.33775413, -0.88640526,  0.80019859,  0.24858013,  0.26398661],\n",
       "       [ 0.35507485,  1.12815215, -0.85043527,  0.24858013,  0.22516505],\n",
       "       [ 0.37239558, -0.88640526, -0.06100169,  0.24858013, -0.39597992],\n",
       "       [ 0.3897163 , -0.88640526,  0.08253169,  0.32527281,  0.30280817],\n",
       "       [ 0.40703703,  1.12815215,  0.010765  ,  0.32527281,  1.58391968],\n",
       "       [ 0.42435775, -0.88640526, -1.13750203,  0.36361914, -0.82301709],\n",
       "       [ 0.44167848, -0.88640526, -0.56336851,  0.36361914,  1.04041783],\n",
       "       [ 0.4589992 ,  1.12815215,  0.29783176,  0.40196548, -0.59008772],\n",
       "       [ 0.47631993,  1.12815215,  0.08253169,  0.40196548,  1.73920592],\n",
       "       [ 0.49364065,  1.12815215,  1.4460988 ,  0.40196548, -1.52180518],\n",
       "       [ 0.51096138,  1.12815215, -0.06100169,  0.40196548,  0.96277471],\n",
       "       [ 0.5282821 ,  1.12815215,  0.58489852,  0.40196548, -1.5994483 ],\n",
       "       [ 0.54560282,  1.12815215,  0.010765  ,  0.40196548,  0.96277471],\n",
       "       [ 0.56292355, -0.88640526, -0.99396865,  0.44031182, -0.62890928],\n",
       "       [ 0.58024427, -0.88640526, -0.56336851,  0.44031182,  0.80748846],\n",
       "       [ 0.597565  ,  1.12815215, -1.3528021 ,  0.47865816, -1.75473454],\n",
       "       [ 0.61488572, -0.88640526, -0.70690189,  0.47865816,  1.46745499],\n",
       "       [ 0.63220645, -0.88640526,  0.36959845,  0.47865816, -1.67709142],\n",
       "       [ 0.64952717,  1.12815215, -0.49160182,  0.47865816,  0.88513158],\n",
       "       [ 0.6668479 ,  1.12815215, -1.42456879,  0.51700449, -1.56062674],\n",
       "       [ 0.68416862, -0.88640526, -0.27630176,  0.51700449,  0.84631002],\n",
       "       [ 0.70148935, -0.88640526,  1.30256542,  0.55535083, -1.75473454],\n",
       "       [ 0.71881007,  1.12815215, -0.49160182,  0.55535083,  1.6615628 ],\n",
       "       [ 0.73613079, -0.88640526, -0.77866858,  0.59369717, -0.39597992],\n",
       "       [ 0.75345152, -0.88640526, -0.49160182,  0.59369717,  1.42863343],\n",
       "       [ 0.77077224,  1.12815215, -0.99396865,  0.6320435 , -1.48298362],\n",
       "       [ 0.78809297,  1.12815215, -0.77866858,  0.6320435 ,  1.81684904],\n",
       "       [ 0.80541369,  1.12815215,  0.65666521,  0.6320435 , -0.55126616],\n",
       "       [ 0.82273442, -0.88640526, -0.49160182,  0.6320435 ,  0.92395314],\n",
       "       [ 0.84005514, -0.88640526, -0.34806844,  0.67038984, -1.09476801],\n",
       "       [ 0.85737587,  1.12815215, -0.34806844,  0.67038984,  1.54509812],\n",
       "       [ 0.87469659,  1.12815215,  0.29783176,  0.67038984, -1.28887582],\n",
       "       [ 0.89201732,  1.12815215,  0.010765  ,  0.67038984,  1.46745499],\n",
       "       [ 0.90933804, -0.88640526,  0.36959845,  0.67038984, -1.17241113],\n",
       "       [ 0.92665877, -0.88640526, -0.06100169,  0.67038984,  1.00159627],\n",
       "       [ 0.94397949, -0.88640526,  0.58489852,  0.67038984, -1.32769738],\n",
       "       [ 0.96130021, -0.88640526, -0.85043527,  0.67038984,  1.50627656],\n",
       "       [ 0.97862094,  1.12815215, -0.13276838,  0.67038984, -1.91002079],\n",
       "       [ 0.99594166, -0.88640526, -0.6351352 ,  0.67038984,  1.07923939],\n",
       "       [ 1.01326239,  1.12815215, -0.34806844,  0.67038984, -1.91002079],\n",
       "       [ 1.03058311, -0.88640526, -0.6351352 ,  0.67038984,  0.88513158],\n",
       "       [ 1.04790384, -0.88640526,  1.23079873,  0.70873618, -0.59008772],\n",
       "       [ 1.06522456, -0.88640526, -0.70690189,  0.70873618,  1.27334719],\n",
       "       [ 1.08254529,  1.12815215, -1.42456879,  0.78542885, -1.75473454],\n",
       "       [ 1.09986601, -0.88640526, -0.56336851,  0.78542885,  1.6615628 ],\n",
       "       [ 1.11718674,  1.12815215,  0.80019859,  0.9388142 , -0.93948177],\n",
       "       [ 1.13450746, -0.88640526, -0.20453507,  0.9388142 ,  0.96277471],\n",
       "       [ 1.15182818,  1.12815215,  0.22606507,  0.97716054, -1.17241113],\n",
       "       [ 1.16914891, -0.88640526, -0.41983513,  0.97716054,  1.73920592],\n",
       "       [ 1.18646963, -0.88640526, -0.20453507,  1.01550688, -0.90066021],\n",
       "       [ 1.20379036,  1.12815215, -0.49160182,  1.01550688,  0.49691598],\n",
       "       [ 1.22111108,  1.12815215,  0.08253169,  1.01550688, -1.44416206],\n",
       "       [ 1.23843181,  1.12815215, -0.77866858,  1.01550688,  0.96277471],\n",
       "       [ 1.25575253,  1.12815215, -0.20453507,  1.01550688, -1.56062674],\n",
       "       [ 1.27307326,  1.12815215, -0.20453507,  1.01550688,  1.62274124],\n",
       "       [ 1.29039398, -0.88640526,  0.94373197,  1.05385321, -1.44416206],\n",
       "       [ 1.30771471, -0.88640526, -0.6351352 ,  1.05385321,  1.38981187],\n",
       "       [ 1.32503543,  1.12815215,  1.37433211,  1.05385321, -1.36651894],\n",
       "       [ 1.34235616,  1.12815215, -0.85043527,  1.05385321,  0.72984534],\n",
       "       [ 1.35967688,  1.12815215,  1.4460988 ,  1.2455849 , -1.4053405 ],\n",
       "       [ 1.3769976 ,  1.12815215, -0.27630176,  1.2455849 ,  1.54509812],\n",
       "       [ 1.39431833, -0.88640526, -0.13276838,  1.39897025, -0.7065524 ],\n",
       "       [ 1.41163905, -0.88640526, -0.49160182,  1.39897025,  1.38981187],\n",
       "       [ 1.42895978,  1.12815215,  0.51313183,  1.43731659, -1.36651894],\n",
       "       [ 1.4462805 , -0.88640526, -0.70690189,  1.43731659,  1.46745499],\n",
       "       [ 1.46360123, -0.88640526,  0.15429838,  1.47566292, -0.43480148],\n",
       "       [ 1.48092195,  1.12815215, -0.6351352 ,  1.47566292,  1.81684904],\n",
       "       [ 1.49824268, -0.88640526,  1.08726535,  1.5523556 , -1.01712489],\n",
       "       [ 1.5155634 ,  1.12815215, -0.77866858,  1.5523556 ,  0.69102378],\n",
       "       [ 1.53288413, -0.88640526,  0.15429838,  1.62904827, -1.28887582],\n",
       "       [ 1.55020485, -0.88640526, -0.20453507,  1.62904827,  1.35099031],\n",
       "       [ 1.56752558, -0.88640526, -0.34806844,  1.62904827, -1.05594645],\n",
       "       [ 1.5848463 , -0.88640526, -0.49160182,  1.62904827,  0.72984534],\n",
       "       [ 1.60216702,  1.12815215, -0.41983513,  2.01251165, -1.63826986],\n",
       "       [ 1.61948775, -0.88640526, -0.06100169,  2.01251165,  1.58391968],\n",
       "       [ 1.63680847, -0.88640526,  0.58489852,  2.28093601, -1.32769738],\n",
       "       [ 1.6541292 , -0.88640526, -0.27630176,  2.28093601,  1.11806095],\n",
       "       [ 1.67144992, -0.88640526,  0.44136514,  2.51101403, -0.86183865],\n",
       "       [ 1.68877065,  1.12815215, -0.49160182,  2.51101403,  0.92395314],\n",
       "       [ 1.70609137,  1.12815215, -0.49160182,  2.76985181, -1.25005425],\n",
       "       [ 1.7234121 ,  1.12815215, -0.6351352 ,  2.76985181,  1.27334719]])"
      ]
     },
     "execution_count": 25,
     "metadata": {},
     "output_type": "execute_result"
    }
   ],
   "source": [
    "df1"
   ]
  },
  {
   "cell_type": "markdown",
   "metadata": {},
   "source": [
    "### 9. Perform any of the clustering algorithms"
   ]
  },
  {
   "cell_type": "code",
   "execution_count": 26,
   "metadata": {},
   "outputs": [],
   "source": [
    "from sklearn.cluster import KMeans"
   ]
  },
  {
   "cell_type": "code",
   "execution_count": 27,
   "metadata": {},
   "outputs": [],
   "source": [
    "df1 = df"
   ]
  },
  {
   "cell_type": "code",
   "execution_count": 28,
   "metadata": {},
   "outputs": [
    {
     "data": {
      "text/html": [
       "<div>\n",
       "<style scoped>\n",
       "    .dataframe tbody tr th:only-of-type {\n",
       "        vertical-align: middle;\n",
       "    }\n",
       "\n",
       "    .dataframe tbody tr th {\n",
       "        vertical-align: top;\n",
       "    }\n",
       "\n",
       "    .dataframe thead th {\n",
       "        text-align: right;\n",
       "    }\n",
       "</style>\n",
       "<table border=\"1\" class=\"dataframe\">\n",
       "  <thead>\n",
       "    <tr style=\"text-align: right;\">\n",
       "      <th></th>\n",
       "      <th>Gender</th>\n",
       "      <th>Age</th>\n",
       "      <th>Annual Income (k$)</th>\n",
       "      <th>Spending Score (1-100)</th>\n",
       "    </tr>\n",
       "  </thead>\n",
       "  <tbody>\n",
       "    <tr>\n",
       "      <th>0</th>\n",
       "      <td>1</td>\n",
       "      <td>19.0</td>\n",
       "      <td>15.00</td>\n",
       "      <td>39.0</td>\n",
       "    </tr>\n",
       "    <tr>\n",
       "      <th>1</th>\n",
       "      <td>1</td>\n",
       "      <td>21.0</td>\n",
       "      <td>15.00</td>\n",
       "      <td>81.0</td>\n",
       "    </tr>\n",
       "    <tr>\n",
       "      <th>2</th>\n",
       "      <td>0</td>\n",
       "      <td>20.0</td>\n",
       "      <td>16.00</td>\n",
       "      <td>6.0</td>\n",
       "    </tr>\n",
       "    <tr>\n",
       "      <th>3</th>\n",
       "      <td>0</td>\n",
       "      <td>23.0</td>\n",
       "      <td>16.00</td>\n",
       "      <td>77.0</td>\n",
       "    </tr>\n",
       "    <tr>\n",
       "      <th>4</th>\n",
       "      <td>0</td>\n",
       "      <td>31.0</td>\n",
       "      <td>17.00</td>\n",
       "      <td>40.0</td>\n",
       "    </tr>\n",
       "    <tr>\n",
       "      <th>...</th>\n",
       "      <td>...</td>\n",
       "      <td>...</td>\n",
       "      <td>...</td>\n",
       "      <td>...</td>\n",
       "    </tr>\n",
       "    <tr>\n",
       "      <th>195</th>\n",
       "      <td>0</td>\n",
       "      <td>35.0</td>\n",
       "      <td>120.00</td>\n",
       "      <td>79.0</td>\n",
       "    </tr>\n",
       "    <tr>\n",
       "      <th>196</th>\n",
       "      <td>0</td>\n",
       "      <td>45.0</td>\n",
       "      <td>126.00</td>\n",
       "      <td>28.0</td>\n",
       "    </tr>\n",
       "    <tr>\n",
       "      <th>197</th>\n",
       "      <td>1</td>\n",
       "      <td>32.0</td>\n",
       "      <td>126.00</td>\n",
       "      <td>74.0</td>\n",
       "    </tr>\n",
       "    <tr>\n",
       "      <th>198</th>\n",
       "      <td>1</td>\n",
       "      <td>32.0</td>\n",
       "      <td>132.75</td>\n",
       "      <td>18.0</td>\n",
       "    </tr>\n",
       "    <tr>\n",
       "      <th>199</th>\n",
       "      <td>1</td>\n",
       "      <td>30.0</td>\n",
       "      <td>132.75</td>\n",
       "      <td>83.0</td>\n",
       "    </tr>\n",
       "  </tbody>\n",
       "</table>\n",
       "<p>200 rows × 4 columns</p>\n",
       "</div>"
      ],
      "text/plain": [
       "     Gender   Age  Annual Income (k$)  Spending Score (1-100)\n",
       "0         1  19.0               15.00                    39.0\n",
       "1         1  21.0               15.00                    81.0\n",
       "2         0  20.0               16.00                     6.0\n",
       "3         0  23.0               16.00                    77.0\n",
       "4         0  31.0               17.00                    40.0\n",
       "..      ...   ...                 ...                     ...\n",
       "195       0  35.0              120.00                    79.0\n",
       "196       0  45.0              126.00                    28.0\n",
       "197       1  32.0              126.00                    74.0\n",
       "198       1  32.0              132.75                    18.0\n",
       "199       1  30.0              132.75                    83.0\n",
       "\n",
       "[200 rows x 4 columns]"
      ]
     },
     "execution_count": 28,
     "metadata": {},
     "output_type": "execute_result"
    }
   ],
   "source": [
    "df1.drop('CustomerID',axis=1)"
   ]
  },
  {
   "cell_type": "code",
   "execution_count": 29,
   "metadata": {},
   "outputs": [
    {
     "data": {
      "text/html": [
       "<div>\n",
       "<style scoped>\n",
       "    .dataframe tbody tr th:only-of-type {\n",
       "        vertical-align: middle;\n",
       "    }\n",
       "\n",
       "    .dataframe tbody tr th {\n",
       "        vertical-align: top;\n",
       "    }\n",
       "\n",
       "    .dataframe thead th {\n",
       "        text-align: right;\n",
       "    }\n",
       "</style>\n",
       "<table border=\"1\" class=\"dataframe\">\n",
       "  <thead>\n",
       "    <tr style=\"text-align: right;\">\n",
       "      <th></th>\n",
       "      <th>CustomerID</th>\n",
       "      <th>Gender</th>\n",
       "      <th>Age</th>\n",
       "      <th>Annual Income (k$)</th>\n",
       "      <th>Spending Score (1-100)</th>\n",
       "    </tr>\n",
       "  </thead>\n",
       "  <tbody>\n",
       "    <tr>\n",
       "      <th>0</th>\n",
       "      <td>1</td>\n",
       "      <td>1</td>\n",
       "      <td>19.0</td>\n",
       "      <td>15.00</td>\n",
       "      <td>39.0</td>\n",
       "    </tr>\n",
       "    <tr>\n",
       "      <th>1</th>\n",
       "      <td>2</td>\n",
       "      <td>1</td>\n",
       "      <td>21.0</td>\n",
       "      <td>15.00</td>\n",
       "      <td>81.0</td>\n",
       "    </tr>\n",
       "    <tr>\n",
       "      <th>2</th>\n",
       "      <td>3</td>\n",
       "      <td>0</td>\n",
       "      <td>20.0</td>\n",
       "      <td>16.00</td>\n",
       "      <td>6.0</td>\n",
       "    </tr>\n",
       "    <tr>\n",
       "      <th>3</th>\n",
       "      <td>4</td>\n",
       "      <td>0</td>\n",
       "      <td>23.0</td>\n",
       "      <td>16.00</td>\n",
       "      <td>77.0</td>\n",
       "    </tr>\n",
       "    <tr>\n",
       "      <th>4</th>\n",
       "      <td>5</td>\n",
       "      <td>0</td>\n",
       "      <td>31.0</td>\n",
       "      <td>17.00</td>\n",
       "      <td>40.0</td>\n",
       "    </tr>\n",
       "    <tr>\n",
       "      <th>...</th>\n",
       "      <td>...</td>\n",
       "      <td>...</td>\n",
       "      <td>...</td>\n",
       "      <td>...</td>\n",
       "      <td>...</td>\n",
       "    </tr>\n",
       "    <tr>\n",
       "      <th>195</th>\n",
       "      <td>196</td>\n",
       "      <td>0</td>\n",
       "      <td>35.0</td>\n",
       "      <td>120.00</td>\n",
       "      <td>79.0</td>\n",
       "    </tr>\n",
       "    <tr>\n",
       "      <th>196</th>\n",
       "      <td>197</td>\n",
       "      <td>0</td>\n",
       "      <td>45.0</td>\n",
       "      <td>126.00</td>\n",
       "      <td>28.0</td>\n",
       "    </tr>\n",
       "    <tr>\n",
       "      <th>197</th>\n",
       "      <td>198</td>\n",
       "      <td>1</td>\n",
       "      <td>32.0</td>\n",
       "      <td>126.00</td>\n",
       "      <td>74.0</td>\n",
       "    </tr>\n",
       "    <tr>\n",
       "      <th>198</th>\n",
       "      <td>199</td>\n",
       "      <td>1</td>\n",
       "      <td>32.0</td>\n",
       "      <td>132.75</td>\n",
       "      <td>18.0</td>\n",
       "    </tr>\n",
       "    <tr>\n",
       "      <th>199</th>\n",
       "      <td>200</td>\n",
       "      <td>1</td>\n",
       "      <td>30.0</td>\n",
       "      <td>132.75</td>\n",
       "      <td>83.0</td>\n",
       "    </tr>\n",
       "  </tbody>\n",
       "</table>\n",
       "<p>200 rows × 5 columns</p>\n",
       "</div>"
      ],
      "text/plain": [
       "     CustomerID  Gender   Age  Annual Income (k$)  Spending Score (1-100)\n",
       "0             1       1  19.0               15.00                    39.0\n",
       "1             2       1  21.0               15.00                    81.0\n",
       "2             3       0  20.0               16.00                     6.0\n",
       "3             4       0  23.0               16.00                    77.0\n",
       "4             5       0  31.0               17.00                    40.0\n",
       "..          ...     ...   ...                 ...                     ...\n",
       "195         196       0  35.0              120.00                    79.0\n",
       "196         197       0  45.0              126.00                    28.0\n",
       "197         198       1  32.0              126.00                    74.0\n",
       "198         199       1  32.0              132.75                    18.0\n",
       "199         200       1  30.0              132.75                    83.0\n",
       "\n",
       "[200 rows x 5 columns]"
      ]
     },
     "execution_count": 29,
     "metadata": {},
     "output_type": "execute_result"
    }
   ],
   "source": [
    "df1"
   ]
  },
  {
   "cell_type": "code",
   "execution_count": 30,
   "metadata": {},
   "outputs": [
    {
     "name": "stderr",
     "output_type": "stream",
     "text": [
      "C:\\Users\\vasur\\anaconda3\\envs\\py37\\lib\\site-packages\\sklearn\\cluster\\_kmeans.py:1334: UserWarning: KMeans is known to have a memory leak on Windows with MKL, when there are less chunks than available threads. You can avoid it by setting the environment variable OMP_NUM_THREADS=1.\n",
      "  warnings.warn(\n",
      "C:\\Users\\vasur\\anaconda3\\envs\\py37\\lib\\site-packages\\sklearn\\cluster\\_kmeans.py:1334: UserWarning: KMeans is known to have a memory leak on Windows with MKL, when there are less chunks than available threads. You can avoid it by setting the environment variable OMP_NUM_THREADS=1.\n",
      "  warnings.warn(\n",
      "C:\\Users\\vasur\\anaconda3\\envs\\py37\\lib\\site-packages\\sklearn\\cluster\\_kmeans.py:1334: UserWarning: KMeans is known to have a memory leak on Windows with MKL, when there are less chunks than available threads. You can avoid it by setting the environment variable OMP_NUM_THREADS=1.\n",
      "  warnings.warn(\n",
      "C:\\Users\\vasur\\anaconda3\\envs\\py37\\lib\\site-packages\\sklearn\\cluster\\_kmeans.py:1334: UserWarning: KMeans is known to have a memory leak on Windows with MKL, when there are less chunks than available threads. You can avoid it by setting the environment variable OMP_NUM_THREADS=1.\n",
      "  warnings.warn(\n",
      "C:\\Users\\vasur\\anaconda3\\envs\\py37\\lib\\site-packages\\sklearn\\cluster\\_kmeans.py:1334: UserWarning: KMeans is known to have a memory leak on Windows with MKL, when there are less chunks than available threads. You can avoid it by setting the environment variable OMP_NUM_THREADS=1.\n",
      "  warnings.warn(\n",
      "C:\\Users\\vasur\\anaconda3\\envs\\py37\\lib\\site-packages\\sklearn\\cluster\\_kmeans.py:1334: UserWarning: KMeans is known to have a memory leak on Windows with MKL, when there are less chunks than available threads. You can avoid it by setting the environment variable OMP_NUM_THREADS=1.\n",
      "  warnings.warn(\n",
      "C:\\Users\\vasur\\anaconda3\\envs\\py37\\lib\\site-packages\\sklearn\\cluster\\_kmeans.py:1334: UserWarning: KMeans is known to have a memory leak on Windows with MKL, when there are less chunks than available threads. You can avoid it by setting the environment variable OMP_NUM_THREADS=1.\n",
      "  warnings.warn(\n",
      "C:\\Users\\vasur\\anaconda3\\envs\\py37\\lib\\site-packages\\sklearn\\cluster\\_kmeans.py:1334: UserWarning: KMeans is known to have a memory leak on Windows with MKL, when there are less chunks than available threads. You can avoid it by setting the environment variable OMP_NUM_THREADS=1.\n",
      "  warnings.warn(\n",
      "C:\\Users\\vasur\\anaconda3\\envs\\py37\\lib\\site-packages\\sklearn\\cluster\\_kmeans.py:1334: UserWarning: KMeans is known to have a memory leak on Windows with MKL, when there are less chunks than available threads. You can avoid it by setting the environment variable OMP_NUM_THREADS=1.\n",
      "  warnings.warn(\n"
     ]
    }
   ],
   "source": [
    "import matplotlib.pyplot as plt\n",
    "\n",
    "TWSS = []\n",
    "k = list(range(2,11))\n",
    "\n",
    "for i in k:\n",
    "    km = KMeans(n_clusters = i,init = 'k-means++',n_init = 10, max_iter = 100, random_state = 0)\n",
    "    km.fit(df1)\n",
    "    TWSS.append(km.inertia_)"
   ]
  },
  {
   "cell_type": "code",
   "execution_count": 31,
   "metadata": {},
   "outputs": [
    {
     "data": {
      "text/plain": [
       "Text(0, 0.5, 'TWSS')"
      ]
     },
     "execution_count": 31,
     "metadata": {},
     "output_type": "execute_result"
    },
    {
     "data": {
      "image/png": "[encoded data removed]",
      "text/plain": [
       "<Figure size 432x288 with 1 Axes>"
      ]
     },
     "metadata": {
      "needs_background": "light"
     },
     "output_type": "display_data"
    }
   ],
   "source": [
    "plt.plot(k,TWSS,'ro--')\n",
    "plt.xlabel('Number of Clusters')\n",
    "plt.ylabel('TWSS')"
   ]
  },
  {
   "cell_type": "code",
   "execution_count": 32,
   "metadata": {},
   "outputs": [],
   "source": [
    "km = KMeans(n_clusters = 4, init = 'random', n_init=10, max_iter=300,tol=1e-04, random_state=0)"
   ]
  },
  {
   "cell_type": "markdown",
   "metadata": {},
   "source": [
    "### 10. Add the cluster data with the primary dataset"
   ]
  },
  {
   "cell_type": "code",
   "execution_count": 33,
   "metadata": {},
   "outputs": [
    {
     "name": "stderr",
     "output_type": "stream",
     "text": [
      "C:\\Users\\vasur\\anaconda3\\envs\\py37\\lib\\site-packages\\sklearn\\cluster\\_kmeans.py:1334: UserWarning: KMeans is known to have a memory leak on Windows with MKL, when there are less chunks than available threads. You can avoid it by setting the environment variable OMP_NUM_THREADS=1.\n",
      "  warnings.warn(\n"
     ]
    }
   ],
   "source": [
    "df['Cluster'] = km.fit_predict(df1)"
   ]
  },
  {
   "cell_type": "code",
   "execution_count": 34,
   "metadata": {},
   "outputs": [
    {
     "data": {
      "text/html": [
       "<div>\n",
       "<style scoped>\n",
       "    .dataframe tbody tr th:only-of-type {\n",
       "        vertical-align: middle;\n",
       "    }\n",
       "\n",
       "    .dataframe tbody tr th {\n",
       "        vertical-align: top;\n",
       "    }\n",
       "\n",
       "    .dataframe thead th {\n",
       "        text-align: right;\n",
       "    }\n",
       "</style>\n",
       "<table border=\"1\" class=\"dataframe\">\n",
       "  <thead>\n",
       "    <tr style=\"text-align: right;\">\n",
       "      <th></th>\n",
       "      <th>CustomerID</th>\n",
       "      <th>Gender</th>\n",
       "      <th>Age</th>\n",
       "      <th>Annual Income (k$)</th>\n",
       "      <th>Spending Score (1-100)</th>\n",
       "      <th>Cluster</th>\n",
       "    </tr>\n",
       "  </thead>\n",
       "  <tbody>\n",
       "    <tr>\n",
       "      <th>0</th>\n",
       "      <td>1</td>\n",
       "      <td>1</td>\n",
       "      <td>19.0</td>\n",
       "      <td>15.00</td>\n",
       "      <td>39.0</td>\n",
       "      <td>0</td>\n",
       "    </tr>\n",
       "    <tr>\n",
       "      <th>1</th>\n",
       "      <td>2</td>\n",
       "      <td>1</td>\n",
       "      <td>21.0</td>\n",
       "      <td>15.00</td>\n",
       "      <td>81.0</td>\n",
       "      <td>0</td>\n",
       "    </tr>\n",
       "    <tr>\n",
       "      <th>2</th>\n",
       "      <td>3</td>\n",
       "      <td>0</td>\n",
       "      <td>20.0</td>\n",
       "      <td>16.00</td>\n",
       "      <td>6.0</td>\n",
       "      <td>0</td>\n",
       "    </tr>\n",
       "    <tr>\n",
       "      <th>3</th>\n",
       "      <td>4</td>\n",
       "      <td>0</td>\n",
       "      <td>23.0</td>\n",
       "      <td>16.00</td>\n",
       "      <td>77.0</td>\n",
       "      <td>0</td>\n",
       "    </tr>\n",
       "    <tr>\n",
       "      <th>4</th>\n",
       "      <td>5</td>\n",
       "      <td>0</td>\n",
       "      <td>31.0</td>\n",
       "      <td>17.00</td>\n",
       "      <td>40.0</td>\n",
       "      <td>0</td>\n",
       "    </tr>\n",
       "    <tr>\n",
       "      <th>...</th>\n",
       "      <td>...</td>\n",
       "      <td>...</td>\n",
       "      <td>...</td>\n",
       "      <td>...</td>\n",
       "      <td>...</td>\n",
       "      <td>...</td>\n",
       "    </tr>\n",
       "    <tr>\n",
       "      <th>195</th>\n",
       "      <td>196</td>\n",
       "      <td>0</td>\n",
       "      <td>35.0</td>\n",
       "      <td>120.00</td>\n",
       "      <td>79.0</td>\n",
       "      <td>2</td>\n",
       "    </tr>\n",
       "    <tr>\n",
       "      <th>196</th>\n",
       "      <td>197</td>\n",
       "      <td>0</td>\n",
       "      <td>45.0</td>\n",
       "      <td>126.00</td>\n",
       "      <td>28.0</td>\n",
       "      <td>1</td>\n",
       "    </tr>\n",
       "    <tr>\n",
       "      <th>197</th>\n",
       "      <td>198</td>\n",
       "      <td>1</td>\n",
       "      <td>32.0</td>\n",
       "      <td>126.00</td>\n",
       "      <td>74.0</td>\n",
       "      <td>2</td>\n",
       "    </tr>\n",
       "    <tr>\n",
       "      <th>198</th>\n",
       "      <td>199</td>\n",
       "      <td>1</td>\n",
       "      <td>32.0</td>\n",
       "      <td>132.75</td>\n",
       "      <td>18.0</td>\n",
       "      <td>1</td>\n",
       "    </tr>\n",
       "    <tr>\n",
       "      <th>199</th>\n",
       "      <td>200</td>\n",
       "      <td>1</td>\n",
       "      <td>30.0</td>\n",
       "      <td>132.75</td>\n",
       "      <td>83.0</td>\n",
       "      <td>2</td>\n",
       "    </tr>\n",
       "  </tbody>\n",
       "</table>\n",
       "<p>200 rows × 6 columns</p>\n",
       "</div>"
      ],
      "text/plain": [
       "     CustomerID  Gender   Age  Annual Income (k$)  Spending Score (1-100)  \\\n",
       "0             1       1  19.0               15.00                    39.0   \n",
       "1             2       1  21.0               15.00                    81.0   \n",
       "2             3       0  20.0               16.00                     6.0   \n",
       "3             4       0  23.0               16.00                    77.0   \n",
       "4             5       0  31.0               17.00                    40.0   \n",
       "..          ...     ...   ...                 ...                     ...   \n",
       "195         196       0  35.0              120.00                    79.0   \n",
       "196         197       0  45.0              126.00                    28.0   \n",
       "197         198       1  32.0              126.00                    74.0   \n",
       "198         199       1  32.0              132.75                    18.0   \n",
       "199         200       1  30.0              132.75                    83.0   \n",
       "\n",
       "     Cluster  \n",
       "0          0  \n",
       "1          0  \n",
       "2          0  \n",
       "3          0  \n",
       "4          0  \n",
       "..       ...  \n",
       "195        2  \n",
       "196        1  \n",
       "197        2  \n",
       "198        1  \n",
       "199        2  \n",
       "\n",
       "[200 rows x 6 columns]"
      ]
     },
     "execution_count": 34,
     "metadata": {},
     "output_type": "execute_result"
    }
   ],
   "source": [
    "df"
   ]
  },
  {
   "cell_type": "code",
   "execution_count": 35,
   "metadata": {},
   "outputs": [
    {
     "data": {
      "text/plain": [
       "3    66\n",
       "0    59\n",
       "2    39\n",
       "1    36\n",
       "Name: Cluster, dtype: int64"
      ]
     },
     "execution_count": 35,
     "metadata": {},
     "output_type": "execute_result"
    }
   ],
   "source": [
    "df['Cluster'].value_counts()"
   ]
  },
  {
   "cell_type": "code",
   "execution_count": 36,
   "metadata": {},
   "outputs": [
    {
     "data": {
      "image/png": "[encoded data removed]",
      "text/plain": [
       "<Figure size 1080x360 with 1 Axes>"
      ]
     },
     "metadata": {
      "needs_background": "light"
     },
     "output_type": "display_data"
    }
   ],
   "source": [
    "import matplotlib.pyplot as plt\n",
    "\n",
    "fig,ax = plt.subplots(figsize=(15,5))\n",
    "sns.scatterplot(x = df['Annual Income (k$)'], y = df['Spending Score (1-100)'], hue = df['Cluster'], palette = 'Accent_r')\n",
    "plt.show()"
   ]
  },
  {
   "cell_type": "code",
   "execution_count": 37,
   "metadata": {},
   "outputs": [
    {
     "data": {
      "text/plain": [
       "0.42337339370528554"
      ]
     },
     "execution_count": 37,
     "metadata": {},
     "output_type": "execute_result"
    }
   ],
   "source": [
    "from sklearn.metrics import silhouette_score, silhouette_samples\n",
    "score = silhouette_score(df,  km.labels_,  metric='euclidean')\n",
    "score"
   ]
  },
  {
   "cell_type": "markdown",
   "metadata": {},
   "source": [
    "### 11. Split the data into dependent and independent variables.\n"
   ]
  },
  {
   "cell_type": "markdown",
   "metadata": {},
   "source": [
    "##### Dependent Variable"
   ]
  },
  {
   "cell_type": "code",
   "execution_count": 38,
   "metadata": {},
   "outputs": [
    {
     "data": {
      "text/plain": [
       "0      0\n",
       "1      0\n",
       "2      0\n",
       "3      0\n",
       "4      0\n",
       "      ..\n",
       "195    2\n",
       "196    1\n",
       "197    2\n",
       "198    1\n",
       "199    2\n",
       "Name: Cluster, Length: 200, dtype: int32"
      ]
     },
     "execution_count": 38,
     "metadata": {},
     "output_type": "execute_result"
    }
   ],
   "source": [
    "y = df['Cluster']\n",
    "y"
   ]
  },
  {
   "cell_type": "markdown",
   "metadata": {},
   "source": [
    "#### Independent Variable"
   ]
  },
  {
   "cell_type": "code",
   "execution_count": 39,
   "metadata": {},
   "outputs": [
    {
     "data": {
      "text/html": [
       "<div>\n",
       "<style scoped>\n",
       "    .dataframe tbody tr th:only-of-type {\n",
       "        vertical-align: middle;\n",
       "    }\n",
       "\n",
       "    .dataframe tbody tr th {\n",
       "        vertical-align: top;\n",
       "    }\n",
       "\n",
       "    .dataframe thead th {\n",
       "        text-align: right;\n",
       "    }\n",
       "</style>\n",
       "<table border=\"1\" class=\"dataframe\">\n",
       "  <thead>\n",
       "    <tr style=\"text-align: right;\">\n",
       "      <th></th>\n",
       "      <th>Gender</th>\n",
       "      <th>Age</th>\n",
       "      <th>Annual Income (k$)</th>\n",
       "      <th>Spending Score (1-100)</th>\n",
       "    </tr>\n",
       "  </thead>\n",
       "  <tbody>\n",
       "    <tr>\n",
       "      <th>0</th>\n",
       "      <td>1</td>\n",
       "      <td>19.0</td>\n",
       "      <td>15.00</td>\n",
       "      <td>39.0</td>\n",
       "    </tr>\n",
       "    <tr>\n",
       "      <th>1</th>\n",
       "      <td>1</td>\n",
       "      <td>21.0</td>\n",
       "      <td>15.00</td>\n",
       "      <td>81.0</td>\n",
       "    </tr>\n",
       "    <tr>\n",
       "      <th>2</th>\n",
       "      <td>0</td>\n",
       "      <td>20.0</td>\n",
       "      <td>16.00</td>\n",
       "      <td>6.0</td>\n",
       "    </tr>\n",
       "    <tr>\n",
       "      <th>3</th>\n",
       "      <td>0</td>\n",
       "      <td>23.0</td>\n",
       "      <td>16.00</td>\n",
       "      <td>77.0</td>\n",
       "    </tr>\n",
       "    <tr>\n",
       "      <th>4</th>\n",
       "      <td>0</td>\n",
       "      <td>31.0</td>\n",
       "      <td>17.00</td>\n",
       "      <td>40.0</td>\n",
       "    </tr>\n",
       "    <tr>\n",
       "      <th>...</th>\n",
       "      <td>...</td>\n",
       "      <td>...</td>\n",
       "      <td>...</td>\n",
       "      <td>...</td>\n",
       "    </tr>\n",
       "    <tr>\n",
       "      <th>195</th>\n",
       "      <td>0</td>\n",
       "      <td>35.0</td>\n",
       "      <td>120.00</td>\n",
       "      <td>79.0</td>\n",
       "    </tr>\n",
       "    <tr>\n",
       "      <th>196</th>\n",
       "      <td>0</td>\n",
       "      <td>45.0</td>\n",
       "      <td>126.00</td>\n",
       "      <td>28.0</td>\n",
       "    </tr>\n",
       "    <tr>\n",
       "      <th>197</th>\n",
       "      <td>1</td>\n",
       "      <td>32.0</td>\n",
       "      <td>126.00</td>\n",
       "      <td>74.0</td>\n",
       "    </tr>\n",
       "    <tr>\n",
       "      <th>198</th>\n",
       "      <td>1</td>\n",
       "      <td>32.0</td>\n",
       "      <td>132.75</td>\n",
       "      <td>18.0</td>\n",
       "    </tr>\n",
       "    <tr>\n",
       "      <th>199</th>\n",
       "      <td>1</td>\n",
       "      <td>30.0</td>\n",
       "      <td>132.75</td>\n",
       "      <td>83.0</td>\n",
       "    </tr>\n",
       "  </tbody>\n",
       "</table>\n",
       "<p>200 rows × 4 columns</p>\n",
       "</div>"
      ],
      "text/plain": [
       "     Gender   Age  Annual Income (k$)  Spending Score (1-100)\n",
       "0         1  19.0               15.00                    39.0\n",
       "1         1  21.0               15.00                    81.0\n",
       "2         0  20.0               16.00                     6.0\n",
       "3         0  23.0               16.00                    77.0\n",
       "4         0  31.0               17.00                    40.0\n",
       "..      ...   ...                 ...                     ...\n",
       "195       0  35.0              120.00                    79.0\n",
       "196       0  45.0              126.00                    28.0\n",
       "197       1  32.0              126.00                    74.0\n",
       "198       1  32.0              132.75                    18.0\n",
       "199       1  30.0              132.75                    83.0\n",
       "\n",
       "[200 rows x 4 columns]"
      ]
     },
     "execution_count": 39,
     "metadata": {},
     "output_type": "execute_result"
    }
   ],
   "source": [
    "x = df[['Gender', 'Age', 'Annual Income (k$)', 'Spending Score (1-100)']]\n",
    "x"
   ]
  },
  {
   "cell_type": "markdown",
   "metadata": {},
   "source": [
    "### 12. Split the data into training and testing"
   ]
  },
  {
   "cell_type": "code",
   "execution_count": 40,
   "metadata": {},
   "outputs": [],
   "source": [
    "from sklearn.model_selection import train_test_split"
   ]
  },
  {
   "cell_type": "code",
   "execution_count": 41,
   "metadata": {},
   "outputs": [],
   "source": [
    "x_train, x_test, y_train, y_test = train_test_split(x, y, test_size = 0.2)"
   ]
  },
  {
   "cell_type": "code",
   "execution_count": 42,
   "metadata": {},
   "outputs": [
    {
     "data": {
      "text/html": [
       "<div>\n",
       "<style scoped>\n",
       "    .dataframe tbody tr th:only-of-type {\n",
       "        vertical-align: middle;\n",
       "    }\n",
       "\n",
       "    .dataframe tbody tr th {\n",
       "        vertical-align: top;\n",
       "    }\n",
       "\n",
       "    .dataframe thead th {\n",
       "        text-align: right;\n",
       "    }\n",
       "</style>\n",
       "<table border=\"1\" class=\"dataframe\">\n",
       "  <thead>\n",
       "    <tr style=\"text-align: right;\">\n",
       "      <th></th>\n",
       "      <th>Gender</th>\n",
       "      <th>Age</th>\n",
       "      <th>Annual Income (k$)</th>\n",
       "      <th>Spending Score (1-100)</th>\n",
       "    </tr>\n",
       "  </thead>\n",
       "  <tbody>\n",
       "    <tr>\n",
       "      <th>195</th>\n",
       "      <td>0</td>\n",
       "      <td>35.0</td>\n",
       "      <td>120.0</td>\n",
       "      <td>79.0</td>\n",
       "    </tr>\n",
       "    <tr>\n",
       "      <th>24</th>\n",
       "      <td>0</td>\n",
       "      <td>54.0</td>\n",
       "      <td>28.0</td>\n",
       "      <td>14.0</td>\n",
       "    </tr>\n",
       "    <tr>\n",
       "      <th>117</th>\n",
       "      <td>0</td>\n",
       "      <td>49.0</td>\n",
       "      <td>65.0</td>\n",
       "      <td>59.0</td>\n",
       "    </tr>\n",
       "    <tr>\n",
       "      <th>169</th>\n",
       "      <td>1</td>\n",
       "      <td>32.0</td>\n",
       "      <td>87.0</td>\n",
       "      <td>63.0</td>\n",
       "    </tr>\n",
       "    <tr>\n",
       "      <th>45</th>\n",
       "      <td>0</td>\n",
       "      <td>24.0</td>\n",
       "      <td>39.0</td>\n",
       "      <td>65.0</td>\n",
       "    </tr>\n",
       "    <tr>\n",
       "      <th>...</th>\n",
       "      <td>...</td>\n",
       "      <td>...</td>\n",
       "      <td>...</td>\n",
       "      <td>...</td>\n",
       "    </tr>\n",
       "    <tr>\n",
       "      <th>80</th>\n",
       "      <td>1</td>\n",
       "      <td>57.0</td>\n",
       "      <td>54.0</td>\n",
       "      <td>51.0</td>\n",
       "    </tr>\n",
       "    <tr>\n",
       "      <th>179</th>\n",
       "      <td>1</td>\n",
       "      <td>35.0</td>\n",
       "      <td>93.0</td>\n",
       "      <td>90.0</td>\n",
       "    </tr>\n",
       "    <tr>\n",
       "      <th>112</th>\n",
       "      <td>0</td>\n",
       "      <td>38.0</td>\n",
       "      <td>64.0</td>\n",
       "      <td>42.0</td>\n",
       "    </tr>\n",
       "    <tr>\n",
       "      <th>21</th>\n",
       "      <td>1</td>\n",
       "      <td>25.0</td>\n",
       "      <td>24.0</td>\n",
       "      <td>73.0</td>\n",
       "    </tr>\n",
       "    <tr>\n",
       "      <th>101</th>\n",
       "      <td>0</td>\n",
       "      <td>49.0</td>\n",
       "      <td>62.0</td>\n",
       "      <td>48.0</td>\n",
       "    </tr>\n",
       "  </tbody>\n",
       "</table>\n",
       "<p>160 rows × 4 columns</p>\n",
       "</div>"
      ],
      "text/plain": [
       "     Gender   Age  Annual Income (k$)  Spending Score (1-100)\n",
       "195       0  35.0               120.0                    79.0\n",
       "24        0  54.0                28.0                    14.0\n",
       "117       0  49.0                65.0                    59.0\n",
       "169       1  32.0                87.0                    63.0\n",
       "45        0  24.0                39.0                    65.0\n",
       "..      ...   ...                 ...                     ...\n",
       "80        1  57.0                54.0                    51.0\n",
       "179       1  35.0                93.0                    90.0\n",
       "112       0  38.0                64.0                    42.0\n",
       "21        1  25.0                24.0                    73.0\n",
       "101       0  49.0                62.0                    48.0\n",
       "\n",
       "[160 rows x 4 columns]"
      ]
     },
     "execution_count": 42,
     "metadata": {},
     "output_type": "execute_result"
    }
   ],
   "source": [
    "x_train"
   ]
  },
  {
   "cell_type": "code",
   "execution_count": 43,
   "metadata": {},
   "outputs": [
    {
     "data": {
      "text/html": [
       "<div>\n",
       "<style scoped>\n",
       "    .dataframe tbody tr th:only-of-type {\n",
       "        vertical-align: middle;\n",
       "    }\n",
       "\n",
       "    .dataframe tbody tr th {\n",
       "        vertical-align: top;\n",
       "    }\n",
       "\n",
       "    .dataframe thead th {\n",
       "        text-align: right;\n",
       "    }\n",
       "</style>\n",
       "<table border=\"1\" class=\"dataframe\">\n",
       "  <thead>\n",
       "    <tr style=\"text-align: right;\">\n",
       "      <th></th>\n",
       "      <th>Gender</th>\n",
       "      <th>Age</th>\n",
       "      <th>Annual Income (k$)</th>\n",
       "      <th>Spending Score (1-100)</th>\n",
       "    </tr>\n",
       "  </thead>\n",
       "  <tbody>\n",
       "    <tr>\n",
       "      <th>61</th>\n",
       "      <td>1</td>\n",
       "      <td>19.0</td>\n",
       "      <td>46.0</td>\n",
       "      <td>55.0</td>\n",
       "    </tr>\n",
       "    <tr>\n",
       "      <th>65</th>\n",
       "      <td>1</td>\n",
       "      <td>18.0</td>\n",
       "      <td>48.0</td>\n",
       "      <td>59.0</td>\n",
       "    </tr>\n",
       "    <tr>\n",
       "      <th>151</th>\n",
       "      <td>1</td>\n",
       "      <td>39.0</td>\n",
       "      <td>78.0</td>\n",
       "      <td>88.0</td>\n",
       "    </tr>\n",
       "    <tr>\n",
       "      <th>29</th>\n",
       "      <td>0</td>\n",
       "      <td>23.0</td>\n",
       "      <td>29.0</td>\n",
       "      <td>87.0</td>\n",
       "    </tr>\n",
       "    <tr>\n",
       "      <th>67</th>\n",
       "      <td>0</td>\n",
       "      <td>68.0</td>\n",
       "      <td>48.0</td>\n",
       "      <td>48.0</td>\n",
       "    </tr>\n",
       "    <tr>\n",
       "      <th>93</th>\n",
       "      <td>0</td>\n",
       "      <td>40.0</td>\n",
       "      <td>60.0</td>\n",
       "      <td>40.0</td>\n",
       "    </tr>\n",
       "    <tr>\n",
       "      <th>192</th>\n",
       "      <td>1</td>\n",
       "      <td>33.0</td>\n",
       "      <td>113.0</td>\n",
       "      <td>8.0</td>\n",
       "    </tr>\n",
       "    <tr>\n",
       "      <th>54</th>\n",
       "      <td>0</td>\n",
       "      <td>50.0</td>\n",
       "      <td>43.0</td>\n",
       "      <td>45.0</td>\n",
       "    </tr>\n",
       "    <tr>\n",
       "      <th>111</th>\n",
       "      <td>0</td>\n",
       "      <td>19.0</td>\n",
       "      <td>63.0</td>\n",
       "      <td>54.0</td>\n",
       "    </tr>\n",
       "    <tr>\n",
       "      <th>190</th>\n",
       "      <td>0</td>\n",
       "      <td>34.0</td>\n",
       "      <td>103.0</td>\n",
       "      <td>23.0</td>\n",
       "    </tr>\n",
       "    <tr>\n",
       "      <th>60</th>\n",
       "      <td>1</td>\n",
       "      <td>70.0</td>\n",
       "      <td>46.0</td>\n",
       "      <td>56.0</td>\n",
       "    </tr>\n",
       "    <tr>\n",
       "      <th>152</th>\n",
       "      <td>0</td>\n",
       "      <td>44.0</td>\n",
       "      <td>78.0</td>\n",
       "      <td>20.0</td>\n",
       "    </tr>\n",
       "    <tr>\n",
       "      <th>149</th>\n",
       "      <td>1</td>\n",
       "      <td>34.0</td>\n",
       "      <td>78.0</td>\n",
       "      <td>90.0</td>\n",
       "    </tr>\n",
       "    <tr>\n",
       "      <th>184</th>\n",
       "      <td>0</td>\n",
       "      <td>41.0</td>\n",
       "      <td>99.0</td>\n",
       "      <td>39.0</td>\n",
       "    </tr>\n",
       "    <tr>\n",
       "      <th>50</th>\n",
       "      <td>0</td>\n",
       "      <td>49.0</td>\n",
       "      <td>42.0</td>\n",
       "      <td>52.0</td>\n",
       "    </tr>\n",
       "    <tr>\n",
       "      <th>53</th>\n",
       "      <td>1</td>\n",
       "      <td>59.0</td>\n",
       "      <td>43.0</td>\n",
       "      <td>60.0</td>\n",
       "    </tr>\n",
       "    <tr>\n",
       "      <th>98</th>\n",
       "      <td>1</td>\n",
       "      <td>48.0</td>\n",
       "      <td>61.0</td>\n",
       "      <td>42.0</td>\n",
       "    </tr>\n",
       "    <tr>\n",
       "      <th>30</th>\n",
       "      <td>1</td>\n",
       "      <td>60.0</td>\n",
       "      <td>30.0</td>\n",
       "      <td>4.0</td>\n",
       "    </tr>\n",
       "    <tr>\n",
       "      <th>40</th>\n",
       "      <td>0</td>\n",
       "      <td>65.0</td>\n",
       "      <td>38.0</td>\n",
       "      <td>35.0</td>\n",
       "    </tr>\n",
       "    <tr>\n",
       "      <th>107</th>\n",
       "      <td>1</td>\n",
       "      <td>54.0</td>\n",
       "      <td>63.0</td>\n",
       "      <td>46.0</td>\n",
       "    </tr>\n",
       "    <tr>\n",
       "      <th>51</th>\n",
       "      <td>1</td>\n",
       "      <td>33.0</td>\n",
       "      <td>42.0</td>\n",
       "      <td>60.0</td>\n",
       "    </tr>\n",
       "    <tr>\n",
       "      <th>133</th>\n",
       "      <td>0</td>\n",
       "      <td>31.0</td>\n",
       "      <td>72.0</td>\n",
       "      <td>71.0</td>\n",
       "    </tr>\n",
       "    <tr>\n",
       "      <th>185</th>\n",
       "      <td>1</td>\n",
       "      <td>30.0</td>\n",
       "      <td>99.0</td>\n",
       "      <td>97.0</td>\n",
       "    </tr>\n",
       "    <tr>\n",
       "      <th>19</th>\n",
       "      <td>0</td>\n",
       "      <td>35.0</td>\n",
       "      <td>23.0</td>\n",
       "      <td>98.0</td>\n",
       "    </tr>\n",
       "    <tr>\n",
       "      <th>32</th>\n",
       "      <td>1</td>\n",
       "      <td>53.0</td>\n",
       "      <td>33.0</td>\n",
       "      <td>4.0</td>\n",
       "    </tr>\n",
       "    <tr>\n",
       "      <th>47</th>\n",
       "      <td>0</td>\n",
       "      <td>27.0</td>\n",
       "      <td>40.0</td>\n",
       "      <td>47.0</td>\n",
       "    </tr>\n",
       "    <tr>\n",
       "      <th>172</th>\n",
       "      <td>1</td>\n",
       "      <td>36.0</td>\n",
       "      <td>87.0</td>\n",
       "      <td>10.0</td>\n",
       "    </tr>\n",
       "    <tr>\n",
       "      <th>96</th>\n",
       "      <td>0</td>\n",
       "      <td>47.0</td>\n",
       "      <td>60.0</td>\n",
       "      <td>47.0</td>\n",
       "    </tr>\n",
       "    <tr>\n",
       "      <th>78</th>\n",
       "      <td>0</td>\n",
       "      <td>23.0</td>\n",
       "      <td>54.0</td>\n",
       "      <td>52.0</td>\n",
       "    </tr>\n",
       "    <tr>\n",
       "      <th>135</th>\n",
       "      <td>0</td>\n",
       "      <td>29.0</td>\n",
       "      <td>73.0</td>\n",
       "      <td>88.0</td>\n",
       "    </tr>\n",
       "    <tr>\n",
       "      <th>154</th>\n",
       "      <td>0</td>\n",
       "      <td>47.0</td>\n",
       "      <td>78.0</td>\n",
       "      <td>16.0</td>\n",
       "    </tr>\n",
       "    <tr>\n",
       "      <th>148</th>\n",
       "      <td>0</td>\n",
       "      <td>34.0</td>\n",
       "      <td>78.0</td>\n",
       "      <td>22.0</td>\n",
       "    </tr>\n",
       "    <tr>\n",
       "      <th>33</th>\n",
       "      <td>1</td>\n",
       "      <td>18.0</td>\n",
       "      <td>33.0</td>\n",
       "      <td>92.0</td>\n",
       "    </tr>\n",
       "    <tr>\n",
       "      <th>183</th>\n",
       "      <td>0</td>\n",
       "      <td>29.0</td>\n",
       "      <td>98.0</td>\n",
       "      <td>88.0</td>\n",
       "    </tr>\n",
       "    <tr>\n",
       "      <th>143</th>\n",
       "      <td>0</td>\n",
       "      <td>32.0</td>\n",
       "      <td>76.0</td>\n",
       "      <td>87.0</td>\n",
       "    </tr>\n",
       "    <tr>\n",
       "      <th>120</th>\n",
       "      <td>1</td>\n",
       "      <td>27.0</td>\n",
       "      <td>67.0</td>\n",
       "      <td>56.0</td>\n",
       "    </tr>\n",
       "    <tr>\n",
       "      <th>48</th>\n",
       "      <td>0</td>\n",
       "      <td>29.0</td>\n",
       "      <td>40.0</td>\n",
       "      <td>42.0</td>\n",
       "    </tr>\n",
       "    <tr>\n",
       "      <th>122</th>\n",
       "      <td>0</td>\n",
       "      <td>40.0</td>\n",
       "      <td>69.0</td>\n",
       "      <td>58.0</td>\n",
       "    </tr>\n",
       "    <tr>\n",
       "      <th>132</th>\n",
       "      <td>0</td>\n",
       "      <td>25.0</td>\n",
       "      <td>72.0</td>\n",
       "      <td>34.0</td>\n",
       "    </tr>\n",
       "    <tr>\n",
       "      <th>68</th>\n",
       "      <td>1</td>\n",
       "      <td>19.0</td>\n",
       "      <td>48.0</td>\n",
       "      <td>59.0</td>\n",
       "    </tr>\n",
       "  </tbody>\n",
       "</table>\n",
       "</div>"
      ],
      "text/plain": [
       "     Gender   Age  Annual Income (k$)  Spending Score (1-100)\n",
       "61        1  19.0                46.0                    55.0\n",
       "65        1  18.0                48.0                    59.0\n",
       "151       1  39.0                78.0                    88.0\n",
       "29        0  23.0                29.0                    87.0\n",
       "67        0  68.0                48.0                    48.0\n",
       "93        0  40.0                60.0                    40.0\n",
       "192       1  33.0               113.0                     8.0\n",
       "54        0  50.0                43.0                    45.0\n",
       "111       0  19.0                63.0                    54.0\n",
       "190       0  34.0               103.0                    23.0\n",
       "60        1  70.0                46.0                    56.0\n",
       "152       0  44.0                78.0                    20.0\n",
       "149       1  34.0                78.0                    90.0\n",
       "184       0  41.0                99.0                    39.0\n",
       "50        0  49.0                42.0                    52.0\n",
       "53        1  59.0                43.0                    60.0\n",
       "98        1  48.0                61.0                    42.0\n",
       "30        1  60.0                30.0                     4.0\n",
       "40        0  65.0                38.0                    35.0\n",
       "107       1  54.0                63.0                    46.0\n",
       "51        1  33.0                42.0                    60.0\n",
       "133       0  31.0                72.0                    71.0\n",
       "185       1  30.0                99.0                    97.0\n",
       "19        0  35.0                23.0                    98.0\n",
       "32        1  53.0                33.0                     4.0\n",
       "47        0  27.0                40.0                    47.0\n",
       "172       1  36.0                87.0                    10.0\n",
       "96        0  47.0                60.0                    47.0\n",
       "78        0  23.0                54.0                    52.0\n",
       "135       0  29.0                73.0                    88.0\n",
       "154       0  47.0                78.0                    16.0\n",
       "148       0  34.0                78.0                    22.0\n",
       "33        1  18.0                33.0                    92.0\n",
       "183       0  29.0                98.0                    88.0\n",
       "143       0  32.0                76.0                    87.0\n",
       "120       1  27.0                67.0                    56.0\n",
       "48        0  29.0                40.0                    42.0\n",
       "122       0  40.0                69.0                    58.0\n",
       "132       0  25.0                72.0                    34.0\n",
       "68        1  19.0                48.0                    59.0"
      ]
     },
     "execution_count": 43,
     "metadata": {},
     "output_type": "execute_result"
    }
   ],
   "source": [
    "x_test"
   ]
  },
  {
   "cell_type": "code",
   "execution_count": 44,
   "metadata": {},
   "outputs": [
    {
     "data": {
      "text/plain": [
       "195    2\n",
       "24     0\n",
       "117    3\n",
       "169    2\n",
       "45     0\n",
       "      ..\n",
       "80     3\n",
       "179    2\n",
       "112    3\n",
       "21     0\n",
       "101    3\n",
       "Name: Cluster, Length: 160, dtype: int32"
      ]
     },
     "execution_count": 44,
     "metadata": {},
     "output_type": "execute_result"
    }
   ],
   "source": [
    "y_train"
   ]
  },
  {
   "cell_type": "code",
   "execution_count": 45,
   "metadata": {},
   "outputs": [
    {
     "data": {
      "text/plain": [
       "61     0\n",
       "65     3\n",
       "151    2\n",
       "29     0\n",
       "67     3\n",
       "93     3\n",
       "192    1\n",
       "54     0\n",
       "111    3\n",
       "190    1\n",
       "60     3\n",
       "152    1\n",
       "149    2\n",
       "184    1\n",
       "50     0\n",
       "53     0\n",
       "98     3\n",
       "30     0\n",
       "40     0\n",
       "107    3\n",
       "51     0\n",
       "133    2\n",
       "185    2\n",
       "19     0\n",
       "32     0\n",
       "47     0\n",
       "172    1\n",
       "96     3\n",
       "78     3\n",
       "135    2\n",
       "154    1\n",
       "148    1\n",
       "33     0\n",
       "183    2\n",
       "143    2\n",
       "120    3\n",
       "48     0\n",
       "122    3\n",
       "132    1\n",
       "68     3\n",
       "Name: Cluster, dtype: int32"
      ]
     },
     "execution_count": 45,
     "metadata": {},
     "output_type": "execute_result"
    }
   ],
   "source": [
    "y_test"
   ]
  },
  {
   "cell_type": "markdown",
   "metadata": {},
   "source": [
    "### 13. Build the Model"
   ]
  },
  {
   "cell_type": "code",
   "execution_count": 46,
   "metadata": {},
   "outputs": [],
   "source": [
    "from sklearn.ensemble import RandomForestClassifier"
   ]
  },
  {
   "cell_type": "code",
   "execution_count": 47,
   "metadata": {},
   "outputs": [],
   "source": [
    "rf = RandomForestClassifier()"
   ]
  },
  {
   "cell_type": "markdown",
   "metadata": {},
   "source": [
    "### 14. Train the Model"
   ]
  },
  {
   "cell_type": "code",
   "execution_count": 48,
   "metadata": {},
   "outputs": [
    {
     "data": {
      "text/html": [
       "<style>#sk-container-id-1 {color: black;background-color: white;}#sk-container-id-1 pre{padding: 0;}#sk-container-id-1 div.sk-toggleable {background-color: white;}#sk-container-id-1 label.sk-toggleable__label {cursor: pointer;display: block;width: 100%;margin-bottom: 0;padding: 0.3em;box-sizing: border-box;text-align: center;}#sk-container-id-1 label.sk-toggleable__label-arrow:before {content: \"▸\";float: left;margin-right: 0.25em;color: #696969;}#sk-container-id-1 label.sk-toggleable__label-arrow:hover:before {color: black;}#sk-container-id-1 div.sk-estimator:hover label.sk-toggleable__label-arrow:before {color: black;}#sk-container-id-1 div.sk-toggleable__content {max-height: 0;max-width: 0;overflow: hidden;text-align: left;background-color: #f0f8ff;}#sk-container-id-1 div.sk-toggleable__content pre {margin: 0.2em;color: black;border-radius: 0.25em;background-color: #f0f8ff;}#sk-container-id-1 input.sk-toggleable__control:checked~div.sk-toggleable__content {max-height: 200px;max-width: 100%;overflow: auto;}#sk-container-id-1 input.sk-toggleable__control:checked~label.sk-toggleable__label-arrow:before {content: \"▾\";}#sk-container-id-1 div.sk-estimator input.sk-toggleable__control:checked~label.sk-toggleable__label {background-color: #d4ebff;}#sk-container-id-1 div.sk-label input.sk-toggleable__control:checked~label.sk-toggleable__label {background-color: #d4ebff;}#sk-container-id-1 input.sk-hidden--visually {border: 0;clip: rect(1px 1px 1px 1px);clip: rect(1px, 1px, 1px, 1px);height: 1px;margin: -1px;overflow: hidden;padding: 0;position: absolute;width: 1px;}#sk-container-id-1 div.sk-estimator {font-family: monospace;background-color: #f0f8ff;border: 1px dotted black;border-radius: 0.25em;box-sizing: border-box;margin-bottom: 0.5em;}#sk-container-id-1 div.sk-estimator:hover {background-color: #d4ebff;}#sk-container-id-1 div.sk-parallel-item::after {content: \"\";width: 100%;border-bottom: 1px solid gray;flex-grow: 1;}#sk-container-id-1 div.sk-label:hover label.sk-toggleable__label {background-color: #d4ebff;}#sk-container-id-1 div.sk-serial::before {content: \"\";position: absolute;border-left: 1px solid gray;box-sizing: border-box;top: 0;bottom: 0;left: 50%;z-index: 0;}#sk-container-id-1 div.sk-serial {display: flex;flex-direction: column;align-items: center;background-color: white;padding-right: 0.2em;padding-left: 0.2em;position: relative;}#sk-container-id-1 div.sk-item {position: relative;z-index: 1;}#sk-container-id-1 div.sk-parallel {display: flex;align-items: stretch;justify-content: center;background-color: white;position: relative;}#sk-container-id-1 div.sk-item::before, #sk-container-id-1 div.sk-parallel-item::before {content: \"\";position: absolute;border-left: 1px solid gray;box-sizing: border-box;top: 0;bottom: 0;left: 50%;z-index: -1;}#sk-container-id-1 div.sk-parallel-item {display: flex;flex-direction: column;z-index: 1;position: relative;background-color: white;}#sk-container-id-1 div.sk-parallel-item:first-child::after {align-self: flex-end;width: 50%;}#sk-container-id-1 div.sk-parallel-item:last-child::after {align-self: flex-start;width: 50%;}#sk-container-id-1 div.sk-parallel-item:only-child::after {width: 0;}#sk-container-id-1 div.sk-dashed-wrapped {border: 1px dashed gray;margin: 0 0.4em 0.5em 0.4em;box-sizing: border-box;padding-bottom: 0.4em;background-color: white;}#sk-container-id-1 div.sk-label label {font-family: monospace;font-weight: bold;display: inline-block;line-height: 1.2em;}#sk-container-id-1 div.sk-label-container {text-align: center;}#sk-container-id-1 div.sk-container {/* jupyter's `normalize.less` sets `[hidden] { display: none; }` but bootstrap.min.css set `[hidden] { display: none !important; }` so we also need the `!important` here to be able to override the default hidden behavior on the sphinx rendered scikit-learn.org. See: https://github.com/scikit-learn/scikit-learn/issues/21755 */display: inline-block !important;position: relative;}#sk-container-id-1 div.sk-text-repr-fallback {display: none;}</style><div id=\"sk-container-id-1\" class=\"sk-top-container\"><div class=\"sk-text-repr-fallback\"><pre>RandomForestClassifier()</pre><b>In a Jupyter environment, please rerun this cell to show the HTML representation or trust the notebook. <br />On GitHub, the HTML representation is unable to render, please try loading this page with nbviewer.org.</b></div><div class=\"sk-container\" hidden><div class=\"sk-item\"><div class=\"sk-estimator sk-toggleable\"><input class=\"sk-toggleable__control sk-hidden--visually\" id=\"sk-estimator-id-1\" type=\"checkbox\" checked><label for=\"sk-estimator-id-1\" class=\"sk-toggleable__label sk-toggleable__label-arrow\">RandomForestClassifier</label><div class=\"sk-toggleable__content\"><pre>RandomForestClassifier()</pre></div></div></div></div></div>"
      ],
      "text/plain": [
       "RandomForestClassifier()"
      ]
     },
     "execution_count": 48,
     "metadata": {},
     "output_type": "execute_result"
    }
   ],
   "source": [
    "rf.fit(x_train,y_train)"
   ]
  },
  {
   "cell_type": "markdown",
   "metadata": {},
   "source": [
    "### 15. Test the Model"
   ]
  },
  {
   "cell_type": "code",
   "execution_count": 49,
   "metadata": {},
   "outputs": [
    {
     "data": {
      "text/plain": [
       "array([3, 3, 2, 0, 3, 3, 1, 0, 3, 1, 3, 1, 2, 1, 0, 0, 3, 0, 0, 3, 0, 2,\n",
       "       2, 0, 0, 0, 1, 3, 3, 2, 1, 1, 0, 2, 2, 3, 0, 3, 3, 3])"
      ]
     },
     "execution_count": 49,
     "metadata": {},
     "output_type": "execute_result"
    }
   ],
   "source": [
    "y_pred = rf.predict(x_test)\n",
    "\n",
    "y_pred"
   ]
  },
  {
   "cell_type": "markdown",
   "metadata": {},
   "source": [
    "### 16. Measure the performance using Evaluation Metrics"
   ]
  },
  {
   "cell_type": "markdown",
   "metadata": {},
   "source": [
    "#### Confusion Matrix"
   ]
  },
  {
   "cell_type": "code",
   "execution_count": 50,
   "metadata": {},
   "outputs": [
    {
     "data": {
      "text/plain": [
       "array([[12,  0,  0,  1],\n",
       "       [ 0,  7,  0,  1],\n",
       "       [ 0,  0,  7,  0],\n",
       "       [ 0,  0,  0, 12]], dtype=int64)"
      ]
     },
     "execution_count": 50,
     "metadata": {},
     "output_type": "execute_result"
    }
   ],
   "source": [
    "from sklearn import metrics\n",
    "metrics.confusion_matrix(y_test, y_pred)"
   ]
  },
  {
   "cell_type": "code",
   "execution_count": 51,
   "metadata": {},
   "outputs": [
    {
     "data": {
      "image/png": "[encoded data removed]",
      "text/plain": [
       "<Figure size 1080x360 with 2 Axes>"
      ]
     },
     "metadata": {
      "needs_background": "light"
     },
     "output_type": "display_data"
    }
   ],
   "source": [
    "matrix = metrics.confusion_matrix(y_test, y_pred)\n",
    "matrix = matrix.astype('float') / matrix.sum(axis=1)[:, np.newaxis]\n",
    "\n",
    "plt.figure(figsize = (15,5))\n",
    "sns.set(font_scale = 1.4)\n",
    "sns.heatmap(matrix, annot=True, annot_kws={'size':10},cmap=plt.cm.Greens, linewidths=0.2)\n",
    "\n",
    "class_names = ['Gender', 'Age', 'Annual Income', 'Spending Score']\n",
    "\n",
    "tick_marks = np.arange(len(class_names))\n",
    "tick_marks2 = tick_marks + 0.5\n",
    "plt.xticks(tick_marks, class_names, rotation = 25)\n",
    "plt.yticks(tick_marks2, class_names, rotation = 0)\n",
    "plt.xlabel('Predicted label')\n",
    "plt.ylabel('True label')\n",
    "plt.title('Confusion Matrix')\n",
    "plt.show()"
   ]
  },
  {
   "cell_type": "markdown",
   "metadata": {},
   "source": [
    "#### Different Metrics"
   ]
  },
  {
   "cell_type": "code",
   "execution_count": 52,
   "metadata": {},
   "outputs": [
    {
     "name": "stdout",
     "output_type": "stream",
     "text": [
      "              precision    recall  f1-score   support\n",
      "\n",
      "           0       1.00      0.92      0.96        13\n",
      "           1       1.00      0.88      0.93         8\n",
      "           2       1.00      1.00      1.00         7\n",
      "           3       0.86      1.00      0.92        12\n",
      "\n",
      "    accuracy                           0.95        40\n",
      "   macro avg       0.96      0.95      0.95        40\n",
      "weighted avg       0.96      0.95      0.95        40\n",
      "\n"
     ]
    }
   ],
   "source": [
    "from sklearn.metrics import classification_report\n",
    "print(classification_report(y_test, y_pred))"
   ]
  }
 ],
 "metadata": {
  "kernelspec": {
   "display_name": "Python 3",
   "language": "python",
   "name": "python3"
  },
  "language_info": {
   "codemirror_mode": {
    "name": "ipython",
    "version": 3
   },
   "file_extension": ".py",
   "mimetype": "text/x-python",
   "name": "python",
   "nbconvert_exporter": "python",
   "pygments_lexer": "ipython3",
   "version": "3.8.3"
  }
 },
 "nbformat": 4,
 "nbformat_minor": 4
}
